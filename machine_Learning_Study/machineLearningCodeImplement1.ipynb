{
  "nbformat": 4,
  "nbformat_minor": 0,
  "metadata": {
    "colab": {
      "name": "machineLearningCodeImplement1.ipynb",
      "provenance": [],
      "authorship_tag": "ABX9TyOgICXSaZJJTvWI6Gk9mkf7",
      "include_colab_link": true
    },
    "kernelspec": {
      "name": "python3",
      "display_name": "Python 3"
    },
    "language_info": {
      "name": "python"
    }
  },
  "cells": [
    {
      "cell_type": "markdown",
      "metadata": {
        "id": "view-in-github",
        "colab_type": "text"
      },
      "source": [
        "<a href=\"https://colab.research.google.com/github/SangBeom-Hahn/BOAZ/blob/main/machineLearningCodeImplement1.ipynb\" target=\"_parent\"><img src=\"https://colab.research.google.com/assets/colab-badge.svg\" alt=\"Open In Colab\"/></a>"
      ]
    },
    {
      "cell_type": "markdown",
      "source": [
        "# 2.1 인공 뉴런 : 초기 머신 러닝의 간단한 역사"
      ],
      "metadata": {
        "id": "uR0iS6386Bae"
      }
    },
    {
      "cell_type": "code",
      "execution_count": null,
      "metadata": {
        "id": "ANZYx80MyDpG"
      },
      "outputs": [],
      "source": [
        ""
      ]
    }
  ]
}
