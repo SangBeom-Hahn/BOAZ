{
  "nbformat": 4,
  "nbformat_minor": 0,
  "metadata": {
    "colab": {
      "name": "Dacon_Credit_Prediction.ipynb",
      "provenance": [],
      "collapsed_sections": [],
      "mount_file_id": "1H4wQxSV5vLGso0wAX4kmedf3n3FJ_HCs",
      "authorship_tag": "ABX9TyOZ8nYkkjVy9dtALQqWnq0Y",
      "include_colab_link": true
    },
    "kernelspec": {
      "name": "python3",
      "display_name": "Python 3"
    },
    "language_info": {
      "name": "python"
    }
  },
  "cells": [
    {
      "cell_type": "markdown",
      "metadata": {
        "id": "view-in-github",
        "colab_type": "text"
      },
      "source": [
        "<a href=\"https://colab.research.google.com/github/SangBeom-Hahn/BOAZ/blob/main/Dacon_Credit_Prediction.ipynb\" target=\"_parent\"><img src=\"https://colab.research.google.com/assets/colab-badge.svg\" alt=\"Open In Colab\"/></a>"
      ]
    },
    {
      "cell_type": "code",
      "execution_count": null,
      "metadata": {
        "id": "v97Q1ADzskMK"
      },
      "outputs": [],
      "source": [
        "import pandas as pd\n",
        "import numpy as np\n",
        "import seaborn as sns\n",
        "\n",
        "%matplotlib inline\n",
        "import matplotlib.pyplot as plt"
      ]
    },
    {
      "cell_type": "markdown",
      "source": [
        "# 컬럼부터 정리하고 가설을 세우는게 좋다\n",
        "1. gender 성별\n",
        "2. car 차량 소유 여부\n",
        "3. reality 부동산 소유 여부\n",
        "4. child_num 자녀 수\n",
        "5. income_total 연간 소득\n",
        "6. edu_type 교육 수준\n",
        "7. family_type 결혼 여부\n",
        "8. house_type 생활방식\n",
        "9. income_type 소득 분류\n",
        "10. DAYS_BIRTH 출생일\n",
        "11. DAYS_EMPLOYED 업무 시작일\n",
        "12. FLAG_MOBIL 핸드폰 소유 여부\n",
        "13. work_phone 업무용 전화 소유 여부\n",
        "14. phone 전화 소유 여부\n",
        "15. email 이메일 소유 여부\n",
        "16. occyp_type 직업 유형\n",
        "17. family_size 가족 규모\n",
        "18. begin_month 신용카드 발급 월\n",
        "19. credit 신용도"
      ],
      "metadata": {
        "id": "_ba_c7VstOtT"
      }
    },
    {
      "cell_type": "code",
      "source": [
        "# 데이터 수집\n",
        "df = pd.read_csv('/content/drive/MyDrive/프로그래밍 언어 공부 자료/인공지능/BOAZ 18기/22-1 방학 세션/분석 22-1 base 방학 세션/미니프로젝트/train.csv')\n",
        "# df_Test = pd.read_csv('/content/drive/MyDrive/프로그래밍 언어 공부 자료/인공지능/BOAZ 18기/22-1 방학 세션/분석 22-1 base 방학 세션/미니프로젝트/test.csv')"
      ],
      "metadata": {
        "id": "dF9jl9Ems7zF"
      },
      "execution_count": null,
      "outputs": []
    },
    {
      "cell_type": "code",
      "source": [
        "df"
      ],
      "metadata": {
        "colab": {
          "base_uri": "https://localhost:8080/",
          "height": 728
        },
        "id": "PIl_JVuptA1K",
        "outputId": "6dc1a9ef-c53d-4ee9-f0c1-c5d006c4eda8"
      },
      "execution_count": null,
      "outputs": [
        {
          "output_type": "execute_result",
          "data": {
            "text/plain": [
              "       index gender car reality  child_num  income_total  \\\n",
              "0          0      F   N       N          0      202500.0   \n",
              "1          1      F   N       Y          1      247500.0   \n",
              "2          2      M   Y       Y          0      450000.0   \n",
              "3          3      F   N       Y          0      202500.0   \n",
              "4          4      F   Y       Y          0      157500.0   \n",
              "...      ...    ...  ..     ...        ...           ...   \n",
              "26452  26452      F   N       N          2      225000.0   \n",
              "26453  26453      F   N       Y          1      180000.0   \n",
              "26454  26454      F   Y       N          0      292500.0   \n",
              "26455  26455      M   N       Y          0      171000.0   \n",
              "26456  26456      F   N       N          0       81000.0   \n",
              "\n",
              "                income_type                       edu_type  \\\n",
              "0      Commercial associate               Higher education   \n",
              "1      Commercial associate  Secondary / secondary special   \n",
              "2                   Working               Higher education   \n",
              "3      Commercial associate  Secondary / secondary special   \n",
              "4             State servant               Higher education   \n",
              "...                     ...                            ...   \n",
              "26452         State servant  Secondary / secondary special   \n",
              "26453               Working               Higher education   \n",
              "26454               Working  Secondary / secondary special   \n",
              "26455               Working              Incomplete higher   \n",
              "26456               Working  Secondary / secondary special   \n",
              "\n",
              "                family_type           house_type  DAYS_BIRTH  DAYS_EMPLOYED  \\\n",
              "0                   Married  Municipal apartment      -13899          -4709   \n",
              "1            Civil marriage    House / apartment      -11380          -1540   \n",
              "2                   Married    House / apartment      -19087          -4434   \n",
              "3                   Married    House / apartment      -15088          -2092   \n",
              "4                   Married    House / apartment      -15037          -2105   \n",
              "...                     ...                  ...         ...            ...   \n",
              "26452               Married    House / apartment      -12079          -1984   \n",
              "26453             Separated    House / apartment      -15291          -2475   \n",
              "26454        Civil marriage         With parents      -10082          -2015   \n",
              "26455  Single / not married    House / apartment      -10145           -107   \n",
              "26456        Civil marriage    House / apartment      -19569          -1013   \n",
              "\n",
              "       FLAG_MOBIL  work_phone  phone  email      occyp_type  family_size  \\\n",
              "0               1           0      0      0             NaN          2.0   \n",
              "1               1           0      0      1        Laborers          3.0   \n",
              "2               1           0      1      0        Managers          2.0   \n",
              "3               1           0      1      0     Sales staff          2.0   \n",
              "4               1           0      0      0        Managers          2.0   \n",
              "...           ...         ...    ...    ...             ...          ...   \n",
              "26452           1           0      0      0      Core staff          4.0   \n",
              "26453           1           0      0      0             NaN          2.0   \n",
              "26454           1           0      0      0      Core staff          2.0   \n",
              "26455           1           0      0      0        Laborers          1.0   \n",
              "26456           1           0      0      0  Security staff          2.0   \n",
              "\n",
              "       begin_month  credit  \n",
              "0             -6.0     1.0  \n",
              "1             -5.0     1.0  \n",
              "2            -22.0     2.0  \n",
              "3            -37.0     0.0  \n",
              "4            -26.0     2.0  \n",
              "...            ...     ...  \n",
              "26452         -2.0     1.0  \n",
              "26453        -47.0     2.0  \n",
              "26454        -25.0     2.0  \n",
              "26455        -59.0     2.0  \n",
              "26456         -9.0     2.0  \n",
              "\n",
              "[26457 rows x 20 columns]"
            ],
            "text/html": [
              "\n",
              "  <div id=\"df-7246d2e5-6438-4f07-a647-69222c64d57e\">\n",
              "    <div class=\"colab-df-container\">\n",
              "      <div>\n",
              "<style scoped>\n",
              "    .dataframe tbody tr th:only-of-type {\n",
              "        vertical-align: middle;\n",
              "    }\n",
              "\n",
              "    .dataframe tbody tr th {\n",
              "        vertical-align: top;\n",
              "    }\n",
              "\n",
              "    .dataframe thead th {\n",
              "        text-align: right;\n",
              "    }\n",
              "</style>\n",
              "<table border=\"1\" class=\"dataframe\">\n",
              "  <thead>\n",
              "    <tr style=\"text-align: right;\">\n",
              "      <th></th>\n",
              "      <th>index</th>\n",
              "      <th>gender</th>\n",
              "      <th>car</th>\n",
              "      <th>reality</th>\n",
              "      <th>child_num</th>\n",
              "      <th>income_total</th>\n",
              "      <th>income_type</th>\n",
              "      <th>edu_type</th>\n",
              "      <th>family_type</th>\n",
              "      <th>house_type</th>\n",
              "      <th>DAYS_BIRTH</th>\n",
              "      <th>DAYS_EMPLOYED</th>\n",
              "      <th>FLAG_MOBIL</th>\n",
              "      <th>work_phone</th>\n",
              "      <th>phone</th>\n",
              "      <th>email</th>\n",
              "      <th>occyp_type</th>\n",
              "      <th>family_size</th>\n",
              "      <th>begin_month</th>\n",
              "      <th>credit</th>\n",
              "    </tr>\n",
              "  </thead>\n",
              "  <tbody>\n",
              "    <tr>\n",
              "      <th>0</th>\n",
              "      <td>0</td>\n",
              "      <td>F</td>\n",
              "      <td>N</td>\n",
              "      <td>N</td>\n",
              "      <td>0</td>\n",
              "      <td>202500.0</td>\n",
              "      <td>Commercial associate</td>\n",
              "      <td>Higher education</td>\n",
              "      <td>Married</td>\n",
              "      <td>Municipal apartment</td>\n",
              "      <td>-13899</td>\n",
              "      <td>-4709</td>\n",
              "      <td>1</td>\n",
              "      <td>0</td>\n",
              "      <td>0</td>\n",
              "      <td>0</td>\n",
              "      <td>NaN</td>\n",
              "      <td>2.0</td>\n",
              "      <td>-6.0</td>\n",
              "      <td>1.0</td>\n",
              "    </tr>\n",
              "    <tr>\n",
              "      <th>1</th>\n",
              "      <td>1</td>\n",
              "      <td>F</td>\n",
              "      <td>N</td>\n",
              "      <td>Y</td>\n",
              "      <td>1</td>\n",
              "      <td>247500.0</td>\n",
              "      <td>Commercial associate</td>\n",
              "      <td>Secondary / secondary special</td>\n",
              "      <td>Civil marriage</td>\n",
              "      <td>House / apartment</td>\n",
              "      <td>-11380</td>\n",
              "      <td>-1540</td>\n",
              "      <td>1</td>\n",
              "      <td>0</td>\n",
              "      <td>0</td>\n",
              "      <td>1</td>\n",
              "      <td>Laborers</td>\n",
              "      <td>3.0</td>\n",
              "      <td>-5.0</td>\n",
              "      <td>1.0</td>\n",
              "    </tr>\n",
              "    <tr>\n",
              "      <th>2</th>\n",
              "      <td>2</td>\n",
              "      <td>M</td>\n",
              "      <td>Y</td>\n",
              "      <td>Y</td>\n",
              "      <td>0</td>\n",
              "      <td>450000.0</td>\n",
              "      <td>Working</td>\n",
              "      <td>Higher education</td>\n",
              "      <td>Married</td>\n",
              "      <td>House / apartment</td>\n",
              "      <td>-19087</td>\n",
              "      <td>-4434</td>\n",
              "      <td>1</td>\n",
              "      <td>0</td>\n",
              "      <td>1</td>\n",
              "      <td>0</td>\n",
              "      <td>Managers</td>\n",
              "      <td>2.0</td>\n",
              "      <td>-22.0</td>\n",
              "      <td>2.0</td>\n",
              "    </tr>\n",
              "    <tr>\n",
              "      <th>3</th>\n",
              "      <td>3</td>\n",
              "      <td>F</td>\n",
              "      <td>N</td>\n",
              "      <td>Y</td>\n",
              "      <td>0</td>\n",
              "      <td>202500.0</td>\n",
              "      <td>Commercial associate</td>\n",
              "      <td>Secondary / secondary special</td>\n",
              "      <td>Married</td>\n",
              "      <td>House / apartment</td>\n",
              "      <td>-15088</td>\n",
              "      <td>-2092</td>\n",
              "      <td>1</td>\n",
              "      <td>0</td>\n",
              "      <td>1</td>\n",
              "      <td>0</td>\n",
              "      <td>Sales staff</td>\n",
              "      <td>2.0</td>\n",
              "      <td>-37.0</td>\n",
              "      <td>0.0</td>\n",
              "    </tr>\n",
              "    <tr>\n",
              "      <th>4</th>\n",
              "      <td>4</td>\n",
              "      <td>F</td>\n",
              "      <td>Y</td>\n",
              "      <td>Y</td>\n",
              "      <td>0</td>\n",
              "      <td>157500.0</td>\n",
              "      <td>State servant</td>\n",
              "      <td>Higher education</td>\n",
              "      <td>Married</td>\n",
              "      <td>House / apartment</td>\n",
              "      <td>-15037</td>\n",
              "      <td>-2105</td>\n",
              "      <td>1</td>\n",
              "      <td>0</td>\n",
              "      <td>0</td>\n",
              "      <td>0</td>\n",
              "      <td>Managers</td>\n",
              "      <td>2.0</td>\n",
              "      <td>-26.0</td>\n",
              "      <td>2.0</td>\n",
              "    </tr>\n",
              "    <tr>\n",
              "      <th>...</th>\n",
              "      <td>...</td>\n",
              "      <td>...</td>\n",
              "      <td>...</td>\n",
              "      <td>...</td>\n",
              "      <td>...</td>\n",
              "      <td>...</td>\n",
              "      <td>...</td>\n",
              "      <td>...</td>\n",
              "      <td>...</td>\n",
              "      <td>...</td>\n",
              "      <td>...</td>\n",
              "      <td>...</td>\n",
              "      <td>...</td>\n",
              "      <td>...</td>\n",
              "      <td>...</td>\n",
              "      <td>...</td>\n",
              "      <td>...</td>\n",
              "      <td>...</td>\n",
              "      <td>...</td>\n",
              "      <td>...</td>\n",
              "    </tr>\n",
              "    <tr>\n",
              "      <th>26452</th>\n",
              "      <td>26452</td>\n",
              "      <td>F</td>\n",
              "      <td>N</td>\n",
              "      <td>N</td>\n",
              "      <td>2</td>\n",
              "      <td>225000.0</td>\n",
              "      <td>State servant</td>\n",
              "      <td>Secondary / secondary special</td>\n",
              "      <td>Married</td>\n",
              "      <td>House / apartment</td>\n",
              "      <td>-12079</td>\n",
              "      <td>-1984</td>\n",
              "      <td>1</td>\n",
              "      <td>0</td>\n",
              "      <td>0</td>\n",
              "      <td>0</td>\n",
              "      <td>Core staff</td>\n",
              "      <td>4.0</td>\n",
              "      <td>-2.0</td>\n",
              "      <td>1.0</td>\n",
              "    </tr>\n",
              "    <tr>\n",
              "      <th>26453</th>\n",
              "      <td>26453</td>\n",
              "      <td>F</td>\n",
              "      <td>N</td>\n",
              "      <td>Y</td>\n",
              "      <td>1</td>\n",
              "      <td>180000.0</td>\n",
              "      <td>Working</td>\n",
              "      <td>Higher education</td>\n",
              "      <td>Separated</td>\n",
              "      <td>House / apartment</td>\n",
              "      <td>-15291</td>\n",
              "      <td>-2475</td>\n",
              "      <td>1</td>\n",
              "      <td>0</td>\n",
              "      <td>0</td>\n",
              "      <td>0</td>\n",
              "      <td>NaN</td>\n",
              "      <td>2.0</td>\n",
              "      <td>-47.0</td>\n",
              "      <td>2.0</td>\n",
              "    </tr>\n",
              "    <tr>\n",
              "      <th>26454</th>\n",
              "      <td>26454</td>\n",
              "      <td>F</td>\n",
              "      <td>Y</td>\n",
              "      <td>N</td>\n",
              "      <td>0</td>\n",
              "      <td>292500.0</td>\n",
              "      <td>Working</td>\n",
              "      <td>Secondary / secondary special</td>\n",
              "      <td>Civil marriage</td>\n",
              "      <td>With parents</td>\n",
              "      <td>-10082</td>\n",
              "      <td>-2015</td>\n",
              "      <td>1</td>\n",
              "      <td>0</td>\n",
              "      <td>0</td>\n",
              "      <td>0</td>\n",
              "      <td>Core staff</td>\n",
              "      <td>2.0</td>\n",
              "      <td>-25.0</td>\n",
              "      <td>2.0</td>\n",
              "    </tr>\n",
              "    <tr>\n",
              "      <th>26455</th>\n",
              "      <td>26455</td>\n",
              "      <td>M</td>\n",
              "      <td>N</td>\n",
              "      <td>Y</td>\n",
              "      <td>0</td>\n",
              "      <td>171000.0</td>\n",
              "      <td>Working</td>\n",
              "      <td>Incomplete higher</td>\n",
              "      <td>Single / not married</td>\n",
              "      <td>House / apartment</td>\n",
              "      <td>-10145</td>\n",
              "      <td>-107</td>\n",
              "      <td>1</td>\n",
              "      <td>0</td>\n",
              "      <td>0</td>\n",
              "      <td>0</td>\n",
              "      <td>Laborers</td>\n",
              "      <td>1.0</td>\n",
              "      <td>-59.0</td>\n",
              "      <td>2.0</td>\n",
              "    </tr>\n",
              "    <tr>\n",
              "      <th>26456</th>\n",
              "      <td>26456</td>\n",
              "      <td>F</td>\n",
              "      <td>N</td>\n",
              "      <td>N</td>\n",
              "      <td>0</td>\n",
              "      <td>81000.0</td>\n",
              "      <td>Working</td>\n",
              "      <td>Secondary / secondary special</td>\n",
              "      <td>Civil marriage</td>\n",
              "      <td>House / apartment</td>\n",
              "      <td>-19569</td>\n",
              "      <td>-1013</td>\n",
              "      <td>1</td>\n",
              "      <td>0</td>\n",
              "      <td>0</td>\n",
              "      <td>0</td>\n",
              "      <td>Security staff</td>\n",
              "      <td>2.0</td>\n",
              "      <td>-9.0</td>\n",
              "      <td>2.0</td>\n",
              "    </tr>\n",
              "  </tbody>\n",
              "</table>\n",
              "<p>26457 rows × 20 columns</p>\n",
              "</div>\n",
              "      <button class=\"colab-df-convert\" onclick=\"convertToInteractive('df-7246d2e5-6438-4f07-a647-69222c64d57e')\"\n",
              "              title=\"Convert this dataframe to an interactive table.\"\n",
              "              style=\"display:none;\">\n",
              "        \n",
              "  <svg xmlns=\"http://www.w3.org/2000/svg\" height=\"24px\"viewBox=\"0 0 24 24\"\n",
              "       width=\"24px\">\n",
              "    <path d=\"M0 0h24v24H0V0z\" fill=\"none\"/>\n",
              "    <path d=\"M18.56 5.44l.94 2.06.94-2.06 2.06-.94-2.06-.94-.94-2.06-.94 2.06-2.06.94zm-11 1L8.5 8.5l.94-2.06 2.06-.94-2.06-.94L8.5 2.5l-.94 2.06-2.06.94zm10 10l.94 2.06.94-2.06 2.06-.94-2.06-.94-.94-2.06-.94 2.06-2.06.94z\"/><path d=\"M17.41 7.96l-1.37-1.37c-.4-.4-.92-.59-1.43-.59-.52 0-1.04.2-1.43.59L10.3 9.45l-7.72 7.72c-.78.78-.78 2.05 0 2.83L4 21.41c.39.39.9.59 1.41.59.51 0 1.02-.2 1.41-.59l7.78-7.78 2.81-2.81c.8-.78.8-2.07 0-2.86zM5.41 20L4 18.59l7.72-7.72 1.47 1.35L5.41 20z\"/>\n",
              "  </svg>\n",
              "      </button>\n",
              "      \n",
              "  <style>\n",
              "    .colab-df-container {\n",
              "      display:flex;\n",
              "      flex-wrap:wrap;\n",
              "      gap: 12px;\n",
              "    }\n",
              "\n",
              "    .colab-df-convert {\n",
              "      background-color: #E8F0FE;\n",
              "      border: none;\n",
              "      border-radius: 50%;\n",
              "      cursor: pointer;\n",
              "      display: none;\n",
              "      fill: #1967D2;\n",
              "      height: 32px;\n",
              "      padding: 0 0 0 0;\n",
              "      width: 32px;\n",
              "    }\n",
              "\n",
              "    .colab-df-convert:hover {\n",
              "      background-color: #E2EBFA;\n",
              "      box-shadow: 0px 1px 2px rgba(60, 64, 67, 0.3), 0px 1px 3px 1px rgba(60, 64, 67, 0.15);\n",
              "      fill: #174EA6;\n",
              "    }\n",
              "\n",
              "    [theme=dark] .colab-df-convert {\n",
              "      background-color: #3B4455;\n",
              "      fill: #D2E3FC;\n",
              "    }\n",
              "\n",
              "    [theme=dark] .colab-df-convert:hover {\n",
              "      background-color: #434B5C;\n",
              "      box-shadow: 0px 1px 3px 1px rgba(0, 0, 0, 0.15);\n",
              "      filter: drop-shadow(0px 1px 2px rgba(0, 0, 0, 0.3));\n",
              "      fill: #FFFFFF;\n",
              "    }\n",
              "  </style>\n",
              "\n",
              "      <script>\n",
              "        const buttonEl =\n",
              "          document.querySelector('#df-7246d2e5-6438-4f07-a647-69222c64d57e button.colab-df-convert');\n",
              "        buttonEl.style.display =\n",
              "          google.colab.kernel.accessAllowed ? 'block' : 'none';\n",
              "\n",
              "        async function convertToInteractive(key) {\n",
              "          const element = document.querySelector('#df-7246d2e5-6438-4f07-a647-69222c64d57e');\n",
              "          const dataTable =\n",
              "            await google.colab.kernel.invokeFunction('convertToInteractive',\n",
              "                                                     [key], {});\n",
              "          if (!dataTable) return;\n",
              "\n",
              "          const docLinkHtml = 'Like what you see? Visit the ' +\n",
              "            '<a target=\"_blank\" href=https://colab.research.google.com/notebooks/data_table.ipynb>data table notebook</a>'\n",
              "            + ' to learn more about interactive tables.';\n",
              "          element.innerHTML = '';\n",
              "          dataTable['output_type'] = 'display_data';\n",
              "          await google.colab.output.renderOutput(dataTable, element);\n",
              "          const docLink = document.createElement('div');\n",
              "          docLink.innerHTML = docLinkHtml;\n",
              "          element.appendChild(docLink);\n",
              "        }\n",
              "      </script>\n",
              "    </div>\n",
              "  </div>\n",
              "  "
            ]
          },
          "metadata": {},
          "execution_count": 3
        }
      ]
    },
    {
      "cell_type": "markdown",
      "source": [
        "# ① 데이터 분석"
      ],
      "metadata": {
        "id": "2jzEl6h09QGF"
      }
    },
    {
      "cell_type": "code",
      "source": [
        "# ①데이터 분석\n",
        "\n",
        "#데이터 확인\n",
        "print(df.shape)\n",
        "print(df.info())"
      ],
      "metadata": {
        "colab": {
          "base_uri": "https://localhost:8080/"
        },
        "id": "7HRtLv3DtVyA",
        "outputId": "ac938b1c-1e02-42ae-9526-467d6b70ccb8"
      },
      "execution_count": null,
      "outputs": [
        {
          "output_type": "stream",
          "name": "stdout",
          "text": [
            "(26457, 20)\n",
            "<class 'pandas.core.frame.DataFrame'>\n",
            "RangeIndex: 26457 entries, 0 to 26456\n",
            "Data columns (total 20 columns):\n",
            " #   Column         Non-Null Count  Dtype  \n",
            "---  ------         --------------  -----  \n",
            " 0   index          26457 non-null  int64  \n",
            " 1   gender         26457 non-null  object \n",
            " 2   car            26457 non-null  object \n",
            " 3   reality        26457 non-null  object \n",
            " 4   child_num      26457 non-null  int64  \n",
            " 5   income_total   26457 non-null  float64\n",
            " 6   income_type    26457 non-null  object \n",
            " 7   edu_type       26457 non-null  object \n",
            " 8   family_type    26457 non-null  object \n",
            " 9   house_type     26457 non-null  object \n",
            " 10  DAYS_BIRTH     26457 non-null  int64  \n",
            " 11  DAYS_EMPLOYED  26457 non-null  int64  \n",
            " 12  FLAG_MOBIL     26457 non-null  int64  \n",
            " 13  work_phone     26457 non-null  int64  \n",
            " 14  phone          26457 non-null  int64  \n",
            " 15  email          26457 non-null  int64  \n",
            " 16  occyp_type     18286 non-null  object \n",
            " 17  family_size    26457 non-null  float64\n",
            " 18  begin_month    26457 non-null  float64\n",
            " 19  credit         26457 non-null  float64\n",
            "dtypes: float64(4), int64(8), object(8)\n",
            "memory usage: 4.0+ MB\n",
            "None\n"
          ]
        }
      ]
    },
    {
      "cell_type": "code",
      "source": [
        "#결측치 확인\n",
        "df.isnull().sum()"
      ],
      "metadata": {
        "colab": {
          "base_uri": "https://localhost:8080/"
        },
        "id": "7oeyMVtotgEY",
        "outputId": "06b3599d-6f01-436e-ebd1-5295d072ba89"
      },
      "execution_count": null,
      "outputs": [
        {
          "output_type": "execute_result",
          "data": {
            "text/plain": [
              "index               0\n",
              "gender              0\n",
              "car                 0\n",
              "reality             0\n",
              "child_num           0\n",
              "income_total        0\n",
              "income_type         0\n",
              "edu_type            0\n",
              "family_type         0\n",
              "house_type          0\n",
              "DAYS_BIRTH          0\n",
              "DAYS_EMPLOYED       0\n",
              "FLAG_MOBIL          0\n",
              "work_phone          0\n",
              "phone               0\n",
              "email               0\n",
              "occyp_type       8171\n",
              "family_size         0\n",
              "begin_month         0\n",
              "credit              0\n",
              "dtype: int64"
            ]
          },
          "metadata": {},
          "execution_count": 5
        }
      ]
    },
    {
      "cell_type": "markdown",
      "source": [
        "일변량 변수 탐색 및 종속변수와의 관계 파악"
      ],
      "metadata": {
        "id": "ym14sNs5uAgg"
      }
    },
    {
      "cell_type": "markdown",
      "source": [
        "0. 신용도(종속변수)\n",
        "```\n",
        "→ 낮은 값을 가질수록 높은 신용도라고 생각\n",
        "→ 2로 신용도가 낮은 사람이 거의 절반 넘게 64% 존재\n",
        "```"
      ],
      "metadata": {
        "id": "uwdakolnuCrP"
      }
    },
    {
      "cell_type": "code",
      "source": [
        "df.credit.value_counts()/(16968+6267+3222)*100"
      ],
      "metadata": {
        "id": "zC_llNW3uGoa",
        "colab": {
          "base_uri": "https://localhost:8080/"
        },
        "outputId": "dcebdcb7-ab5b-425e-b1d3-1670448effb7"
      },
      "execution_count": null,
      "outputs": [
        {
          "output_type": "execute_result",
          "data": {
            "text/plain": [
              "2.0    64.134256\n",
              "1.0    23.687493\n",
              "0.0    12.178252\n",
              "Name: credit, dtype: float64"
            ]
          },
          "metadata": {},
          "execution_count": 3
        }
      ]
    },
    {
      "cell_type": "markdown",
      "source": [
        "1. 성별"
      ],
      "metadata": {
        "id": "Bjd17OOQuaZS"
      }
    },
    {
      "cell_type": "code",
      "source": [
        "df.gender.value_counts()"
      ],
      "metadata": {
        "id": "NTKDqmvKub1j",
        "colab": {
          "base_uri": "https://localhost:8080/"
        },
        "outputId": "ce6152ea-c072-4b7e-a25e-57d6162084fc"
      },
      "execution_count": null,
      "outputs": [
        {
          "output_type": "execute_result",
          "data": {
            "text/plain": [
              "F    17697\n",
              "M     8760\n",
              "Name: gender, dtype: int64"
            ]
          },
          "metadata": {},
          "execution_count": 4
        }
      ]
    },
    {
      "cell_type": "code",
      "source": [
        "plt.pie(pd.Series(df.gender.value_counts()/26457*100), labels=['F','M'], autopct='%.1f%%')"
      ],
      "metadata": {
        "id": "KDgzddrpuc4X",
        "colab": {
          "base_uri": "https://localhost:8080/",
          "height": 358
        },
        "outputId": "93f10500-e996-4440-e93c-228378d9625e"
      },
      "execution_count": null,
      "outputs": [
        {
          "output_type": "execute_result",
          "data": {
            "text/plain": [
              "([<matplotlib.patches.Wedge at 0x7fdf3af2d690>,\n",
              "  <matplotlib.patches.Wedge at 0x7fdf3af2de90>],\n",
              " [Text(-0.5566605258930385, 0.9487513156314914, 'F'),\n",
              "  Text(0.5566606147215453, -0.9487512635131673, 'M')],\n",
              " [Text(-0.30363301412347554, 0.5175007176171771, '66.9%'),\n",
              "  Text(0.3036330625753883, -0.5175006891890003, '33.1%')])"
            ]
          },
          "metadata": {},
          "execution_count": 5
        },
        {
          "output_type": "display_data",
          "data": {
            "text/plain": [
              "<Figure size 432x288 with 1 Axes>"
            ],
            "image/png": "[encoded data removed]"
          },
          "metadata": {}
        }
      ]
    },
    {
      "cell_type": "code",
      "source": [
        "sns.boxplot(x='gender', y='credit', data=df)\n",
        "print(df[df.gender=='F'].credit.describe())\n",
        "print()\n",
        "print(df[df.gender=='M'].credit.describe())\n",
        "\n",
        "#유의미한 차이는 없음"
      ],
      "metadata": {
        "id": "HfS8vlb8uev4",
        "colab": {
          "base_uri": "https://localhost:8080/",
          "height": 628
        },
        "outputId": "3f74aa5d-5a45-454c-b17b-a1452875e4c1"
      },
      "execution_count": null,
      "outputs": [
        {
          "output_type": "stream",
          "name": "stdout",
          "text": [
            "count    17697.000000\n",
            "mean         1.518788\n",
            "std          0.701732\n",
            "min          0.000000\n",
            "25%          1.000000\n",
            "50%          2.000000\n",
            "75%          2.000000\n",
            "max          2.000000\n",
            "Name: credit, dtype: float64\n",
            "\n",
            "count    8760.000000\n",
            "mean        1.521119\n",
            "std         0.703432\n",
            "min         0.000000\n",
            "25%         1.000000\n",
            "50%         2.000000\n",
            "75%         2.000000\n",
            "max         2.000000\n",
            "Name: credit, dtype: float64\n"
          ]
        },
        {
          "output_type": "display_data",
          "data": {
            "text/plain": [
              "<Figure size 432x288 with 1 Axes>"
            ],
            "image/png": "[encoded data removed]"
          },
          "metadata": {
            "needs_background": "light"
          }
        }
      ]
    },
    {
      "cell_type": "code",
      "source": [
        "pd.crosstab(df.credit, df.gender)\n",
        "\n",
        "#성별별로 신용도의 분포는 거의 유사함"
      ],
      "metadata": {
        "id": "cEhROLUfugQD",
        "colab": {
          "base_uri": "https://localhost:8080/",
          "height": 175
        },
        "outputId": "4485a562-5b88-4f73-939b-73a68ff86ccb"
      },
      "execution_count": null,
      "outputs": [
        {
          "output_type": "execute_result",
          "data": {
            "text/plain": [
              "gender      F     M\n",
              "credit             \n",
              "0.0      2148  1074\n",
              "1.0      4220  2047\n",
              "2.0     11329  5639"
            ],
            "text/html": [
              "\n",
              "  <div id=\"df-055326fd-e14b-4c2b-beeb-22fa5c8f61ae\">\n",
              "    <div class=\"colab-df-container\">\n",
              "      <div>\n",
              "<style scoped>\n",
              "    .dataframe tbody tr th:only-of-type {\n",
              "        vertical-align: middle;\n",
              "    }\n",
              "\n",
              "    .dataframe tbody tr th {\n",
              "        vertical-align: top;\n",
              "    }\n",
              "\n",
              "    .dataframe thead th {\n",
              "        text-align: right;\n",
              "    }\n",
              "</style>\n",
              "<table border=\"1\" class=\"dataframe\">\n",
              "  <thead>\n",
              "    <tr style=\"text-align: right;\">\n",
              "      <th>gender</th>\n",
              "      <th>F</th>\n",
              "      <th>M</th>\n",
              "    </tr>\n",
              "    <tr>\n",
              "      <th>credit</th>\n",
              "      <th></th>\n",
              "      <th></th>\n",
              "    </tr>\n",
              "  </thead>\n",
              "  <tbody>\n",
              "    <tr>\n",
              "      <th>0.0</th>\n",
              "      <td>2148</td>\n",
              "      <td>1074</td>\n",
              "    </tr>\n",
              "    <tr>\n",
              "      <th>1.0</th>\n",
              "      <td>4220</td>\n",
              "      <td>2047</td>\n",
              "    </tr>\n",
              "    <tr>\n",
              "      <th>2.0</th>\n",
              "      <td>11329</td>\n",
              "      <td>5639</td>\n",
              "    </tr>\n",
              "  </tbody>\n",
              "</table>\n",
              "</div>\n",
              "      <button class=\"colab-df-convert\" onclick=\"convertToInteractive('df-055326fd-e14b-4c2b-beeb-22fa5c8f61ae')\"\n",
              "              title=\"Convert this dataframe to an interactive table.\"\n",
              "              style=\"display:none;\">\n",
              "        \n",
              "  <svg xmlns=\"http://www.w3.org/2000/svg\" height=\"24px\"viewBox=\"0 0 24 24\"\n",
              "       width=\"24px\">\n",
              "    <path d=\"M0 0h24v24H0V0z\" fill=\"none\"/>\n",
              "    <path d=\"M18.56 5.44l.94 2.06.94-2.06 2.06-.94-2.06-.94-.94-2.06-.94 2.06-2.06.94zm-11 1L8.5 8.5l.94-2.06 2.06-.94-2.06-.94L8.5 2.5l-.94 2.06-2.06.94zm10 10l.94 2.06.94-2.06 2.06-.94-2.06-.94-.94-2.06-.94 2.06-2.06.94z\"/><path d=\"M17.41 7.96l-1.37-1.37c-.4-.4-.92-.59-1.43-.59-.52 0-1.04.2-1.43.59L10.3 9.45l-7.72 7.72c-.78.78-.78 2.05 0 2.83L4 21.41c.39.39.9.59 1.41.59.51 0 1.02-.2 1.41-.59l7.78-7.78 2.81-2.81c.8-.78.8-2.07 0-2.86zM5.41 20L4 18.59l7.72-7.72 1.47 1.35L5.41 20z\"/>\n",
              "  </svg>\n",
              "      </button>\n",
              "      \n",
              "  <style>\n",
              "    .colab-df-container {\n",
              "      display:flex;\n",
              "      flex-wrap:wrap;\n",
              "      gap: 12px;\n",
              "    }\n",
              "\n",
              "    .colab-df-convert {\n",
              "      background-color: #E8F0FE;\n",
              "      border: none;\n",
              "      border-radius: 50%;\n",
              "      cursor: pointer;\n",
              "      display: none;\n",
              "      fill: #1967D2;\n",
              "      height: 32px;\n",
              "      padding: 0 0 0 0;\n",
              "      width: 32px;\n",
              "    }\n",
              "\n",
              "    .colab-df-convert:hover {\n",
              "      background-color: #E2EBFA;\n",
              "      box-shadow: 0px 1px 2px rgba(60, 64, 67, 0.3), 0px 1px 3px 1px rgba(60, 64, 67, 0.15);\n",
              "      fill: #174EA6;\n",
              "    }\n",
              "\n",
              "    [theme=dark] .colab-df-convert {\n",
              "      background-color: #3B4455;\n",
              "      fill: #D2E3FC;\n",
              "    }\n",
              "\n",
              "    [theme=dark] .colab-df-convert:hover {\n",
              "      background-color: #434B5C;\n",
              "      box-shadow: 0px 1px 3px 1px rgba(0, 0, 0, 0.15);\n",
              "      filter: drop-shadow(0px 1px 2px rgba(0, 0, 0, 0.3));\n",
              "      fill: #FFFFFF;\n",
              "    }\n",
              "  </style>\n",
              "\n",
              "      <script>\n",
              "        const buttonEl =\n",
              "          document.querySelector('#df-055326fd-e14b-4c2b-beeb-22fa5c8f61ae button.colab-df-convert');\n",
              "        buttonEl.style.display =\n",
              "          google.colab.kernel.accessAllowed ? 'block' : 'none';\n",
              "\n",
              "        async function convertToInteractive(key) {\n",
              "          const element = document.querySelector('#df-055326fd-e14b-4c2b-beeb-22fa5c8f61ae');\n",
              "          const dataTable =\n",
              "            await google.colab.kernel.invokeFunction('convertToInteractive',\n",
              "                                                     [key], {});\n",
              "          if (!dataTable) return;\n",
              "\n",
              "          const docLinkHtml = 'Like what you see? Visit the ' +\n",
              "            '<a target=\"_blank\" href=https://colab.research.google.com/notebooks/data_table.ipynb>data table notebook</a>'\n",
              "            + ' to learn more about interactive tables.';\n",
              "          element.innerHTML = '';\n",
              "          dataTable['output_type'] = 'display_data';\n",
              "          await google.colab.output.renderOutput(dataTable, element);\n",
              "          const docLink = document.createElement('div');\n",
              "          docLink.innerHTML = docLinkHtml;\n",
              "          element.appendChild(docLink);\n",
              "        }\n",
              "      </script>\n",
              "    </div>\n",
              "  </div>\n",
              "  "
            ]
          },
          "metadata": {},
          "execution_count": 7
        }
      ]
    },
    {
      "cell_type": "markdown",
      "source": [
        "2. 차량 소유 여부"
      ],
      "metadata": {
        "id": "wH7ZbIqpuuHg"
      }
    },
    {
      "cell_type": "code",
      "source": [
        "df.car.value_counts()"
      ],
      "metadata": {
        "id": "ZhzLX5LQuhrL",
        "colab": {
          "base_uri": "https://localhost:8080/"
        },
        "outputId": "74bf36b9-1abd-4ce6-dcf4-7bcc0d0ceffb"
      },
      "execution_count": null,
      "outputs": [
        {
          "output_type": "execute_result",
          "data": {
            "text/plain": [
              "N    16410\n",
              "Y    10047\n",
              "Name: car, dtype: int64"
            ]
          },
          "metadata": {},
          "execution_count": 11
        }
      ]
    },
    {
      "cell_type": "code",
      "source": [
        "sns.boxplot(x='car', y='credit', data=df)\n",
        "print(df[df.car=='Y'].credit.describe())\n",
        "print()\n",
        "print(df[df.car=='N'].credit.describe())\n",
        "\n",
        "pd.crosstab(df.credit, df.car)\n",
        "#유의미한 차이는 없음"
      ],
      "metadata": {
        "id": "MkRC16fSusti",
        "colab": {
          "base_uri": "https://localhost:8080/",
          "height": 786
        },
        "outputId": "a0c09a36-79a5-458a-a015-087b42dc9893"
      },
      "execution_count": null,
      "outputs": [
        {
          "output_type": "stream",
          "name": "stdout",
          "text": [
            "count    10047.000000\n",
            "mean         1.526525\n",
            "std          0.704404\n",
            "min          0.000000\n",
            "25%          1.000000\n",
            "50%          2.000000\n",
            "75%          2.000000\n",
            "max          2.000000\n",
            "Name: credit, dtype: float64\n",
            "\n",
            "count    16410.000000\n",
            "mean         1.515296\n",
            "std          0.700968\n",
            "min          0.000000\n",
            "25%          1.000000\n",
            "50%          2.000000\n",
            "75%          2.000000\n",
            "max          2.000000\n",
            "Name: credit, dtype: float64\n"
          ]
        },
        {
          "output_type": "execute_result",
          "data": {
            "text/plain": [
              "car         N     Y\n",
              "credit             \n",
              "0.0      1982  1240\n",
              "1.0      3990  2277\n",
              "2.0     10438  6530"
            ],
            "text/html": [
              "\n",
              "  <div id=\"df-e8ec983f-860a-49c8-846f-560df678f61b\">\n",
              "    <div class=\"colab-df-container\">\n",
              "      <div>\n",
              "<style scoped>\n",
              "    .dataframe tbody tr th:only-of-type {\n",
              "        vertical-align: middle;\n",
              "    }\n",
              "\n",
              "    .dataframe tbody tr th {\n",
              "        vertical-align: top;\n",
              "    }\n",
              "\n",
              "    .dataframe thead th {\n",
              "        text-align: right;\n",
              "    }\n",
              "</style>\n",
              "<table border=\"1\" class=\"dataframe\">\n",
              "  <thead>\n",
              "    <tr style=\"text-align: right;\">\n",
              "      <th>car</th>\n",
              "      <th>N</th>\n",
              "      <th>Y</th>\n",
              "    </tr>\n",
              "    <tr>\n",
              "      <th>credit</th>\n",
              "      <th></th>\n",
              "      <th></th>\n",
              "    </tr>\n",
              "  </thead>\n",
              "  <tbody>\n",
              "    <tr>\n",
              "      <th>0.0</th>\n",
              "      <td>1982</td>\n",
              "      <td>1240</td>\n",
              "    </tr>\n",
              "    <tr>\n",
              "      <th>1.0</th>\n",
              "      <td>3990</td>\n",
              "      <td>2277</td>\n",
              "    </tr>\n",
              "    <tr>\n",
              "      <th>2.0</th>\n",
              "      <td>10438</td>\n",
              "      <td>6530</td>\n",
              "    </tr>\n",
              "  </tbody>\n",
              "</table>\n",
              "</div>\n",
              "      <button class=\"colab-df-convert\" onclick=\"convertToInteractive('df-e8ec983f-860a-49c8-846f-560df678f61b')\"\n",
              "              title=\"Convert this dataframe to an interactive table.\"\n",
              "              style=\"display:none;\">\n",
              "        \n",
              "  <svg xmlns=\"http://www.w3.org/2000/svg\" height=\"24px\"viewBox=\"0 0 24 24\"\n",
              "       width=\"24px\">\n",
              "    <path d=\"M0 0h24v24H0V0z\" fill=\"none\"/>\n",
              "    <path d=\"M18.56 5.44l.94 2.06.94-2.06 2.06-.94-2.06-.94-.94-2.06-.94 2.06-2.06.94zm-11 1L8.5 8.5l.94-2.06 2.06-.94-2.06-.94L8.5 2.5l-.94 2.06-2.06.94zm10 10l.94 2.06.94-2.06 2.06-.94-2.06-.94-.94-2.06-.94 2.06-2.06.94z\"/><path d=\"M17.41 7.96l-1.37-1.37c-.4-.4-.92-.59-1.43-.59-.52 0-1.04.2-1.43.59L10.3 9.45l-7.72 7.72c-.78.78-.78 2.05 0 2.83L4 21.41c.39.39.9.59 1.41.59.51 0 1.02-.2 1.41-.59l7.78-7.78 2.81-2.81c.8-.78.8-2.07 0-2.86zM5.41 20L4 18.59l7.72-7.72 1.47 1.35L5.41 20z\"/>\n",
              "  </svg>\n",
              "      </button>\n",
              "      \n",
              "  <style>\n",
              "    .colab-df-container {\n",
              "      display:flex;\n",
              "      flex-wrap:wrap;\n",
              "      gap: 12px;\n",
              "    }\n",
              "\n",
              "    .colab-df-convert {\n",
              "      background-color: #E8F0FE;\n",
              "      border: none;\n",
              "      border-radius: 50%;\n",
              "      cursor: pointer;\n",
              "      display: none;\n",
              "      fill: #1967D2;\n",
              "      height: 32px;\n",
              "      padding: 0 0 0 0;\n",
              "      width: 32px;\n",
              "    }\n",
              "\n",
              "    .colab-df-convert:hover {\n",
              "      background-color: #E2EBFA;\n",
              "      box-shadow: 0px 1px 2px rgba(60, 64, 67, 0.3), 0px 1px 3px 1px rgba(60, 64, 67, 0.15);\n",
              "      fill: #174EA6;\n",
              "    }\n",
              "\n",
              "    [theme=dark] .colab-df-convert {\n",
              "      background-color: #3B4455;\n",
              "      fill: #D2E3FC;\n",
              "    }\n",
              "\n",
              "    [theme=dark] .colab-df-convert:hover {\n",
              "      background-color: #434B5C;\n",
              "      box-shadow: 0px 1px 3px 1px rgba(0, 0, 0, 0.15);\n",
              "      filter: drop-shadow(0px 1px 2px rgba(0, 0, 0, 0.3));\n",
              "      fill: #FFFFFF;\n",
              "    }\n",
              "  </style>\n",
              "\n",
              "      <script>\n",
              "        const buttonEl =\n",
              "          document.querySelector('#df-e8ec983f-860a-49c8-846f-560df678f61b button.colab-df-convert');\n",
              "        buttonEl.style.display =\n",
              "          google.colab.kernel.accessAllowed ? 'block' : 'none';\n",
              "\n",
              "        async function convertToInteractive(key) {\n",
              "          const element = document.querySelector('#df-e8ec983f-860a-49c8-846f-560df678f61b');\n",
              "          const dataTable =\n",
              "            await google.colab.kernel.invokeFunction('convertToInteractive',\n",
              "                                                     [key], {});\n",
              "          if (!dataTable) return;\n",
              "\n",
              "          const docLinkHtml = 'Like what you see? Visit the ' +\n",
              "            '<a target=\"_blank\" href=https://colab.research.google.com/notebooks/data_table.ipynb>data table notebook</a>'\n",
              "            + ' to learn more about interactive tables.';\n",
              "          element.innerHTML = '';\n",
              "          dataTable['output_type'] = 'display_data';\n",
              "          await google.colab.output.renderOutput(dataTable, element);\n",
              "          const docLink = document.createElement('div');\n",
              "          docLink.innerHTML = docLinkHtml;\n",
              "          element.appendChild(docLink);\n",
              "        }\n",
              "      </script>\n",
              "    </div>\n",
              "  </div>\n",
              "  "
            ]
          },
          "metadata": {},
          "execution_count": 12
        },
        {
          "output_type": "display_data",
          "data": {
            "text/plain": [
              "<Figure size 432x288 with 1 Axes>"
            ],
            "image/png": "[encoded data removed]"
          },
          "metadata": {
            "needs_background": "light"
          }
        }
      ]
    },
    {
      "cell_type": "code",
      "source": [
        ""
      ],
      "metadata": {
        "id": "bPIezxTAHX5M"
      },
      "execution_count": null,
      "outputs": []
    },
    {
      "cell_type": "code",
      "source": [
        "#여기!!!!!!!"
      ],
      "metadata": {
        "id": "aeKMcpwYHX1k"
      },
      "execution_count": null,
      "outputs": []
    },
    {
      "cell_type": "code",
      "source": [
        ""
      ],
      "metadata": {
        "id": "9b6dWbcyHXiP"
      },
      "execution_count": null,
      "outputs": []
    },
    {
      "cell_type": "markdown",
      "source": [
        "3. 부동산 소유 여부"
      ],
      "metadata": {
        "id": "-UfjFYSmux6A"
      }
    },
    {
      "cell_type": "code",
      "source": [
        "df.reality.value_counts()"
      ],
      "metadata": {
        "id": "nDfNII2puy9o",
        "colab": {
          "base_uri": "https://localhost:8080/"
        },
        "outputId": "91fb0bfb-07e4-481c-9082-e4e8e3c12b69"
      },
      "execution_count": null,
      "outputs": [
        {
          "output_type": "execute_result",
          "data": {
            "text/plain": [
              "Y    17830\n",
              "N     8627\n",
              "Name: reality, dtype: int64"
            ]
          },
          "metadata": {},
          "execution_count": 8
        }
      ]
    },
    {
      "cell_type": "code",
      "source": [
        "sns.boxplot(x='reality', y='credit', data=df)\n",
        "print(df[df.reality=='Y'].credit.describe())\n",
        "print()\n",
        "print(df[df.reality=='N'].credit.describe())\n",
        "\n",
        "pd.crosstab(df.credit, df.reality)\n",
        "#유의미한 차이는 없음"
      ],
      "metadata": {
        "id": "dFv2jsEKuz2z",
        "colab": {
          "base_uri": "https://localhost:8080/",
          "height": 786
        },
        "outputId": "cdc8091f-b555-4956-9abc-0e0f8d5aab92"
      },
      "execution_count": null,
      "outputs": [
        {
          "output_type": "stream",
          "name": "stdout",
          "text": [
            "count    17830.000000\n",
            "mean         1.514975\n",
            "std          0.701333\n",
            "min          0.000000\n",
            "25%          1.000000\n",
            "50%          2.000000\n",
            "75%          2.000000\n",
            "max          2.000000\n",
            "Name: credit, dtype: float64\n",
            "\n",
            "count    8627.000000\n",
            "mean        1.529037\n",
            "std         0.704189\n",
            "min         0.000000\n",
            "25%         1.000000\n",
            "50%         2.000000\n",
            "75%         2.000000\n",
            "max         2.000000\n",
            "Name: credit, dtype: float64\n"
          ]
        },
        {
          "output_type": "execute_result",
          "data": {
            "text/plain": [
              "reality     N      Y\n",
              "credit              \n",
              "0.0      1064   2158\n",
              "1.0      1935   4332\n",
              "2.0      5628  11340"
            ],
            "text/html": [
              "\n",
              "  <div id=\"df-daf06738-b907-46f4-b4a3-6442697a13b9\">\n",
              "    <div class=\"colab-df-container\">\n",
              "      <div>\n",
              "<style scoped>\n",
              "    .dataframe tbody tr th:only-of-type {\n",
              "        vertical-align: middle;\n",
              "    }\n",
              "\n",
              "    .dataframe tbody tr th {\n",
              "        vertical-align: top;\n",
              "    }\n",
              "\n",
              "    .dataframe thead th {\n",
              "        text-align: right;\n",
              "    }\n",
              "</style>\n",
              "<table border=\"1\" class=\"dataframe\">\n",
              "  <thead>\n",
              "    <tr style=\"text-align: right;\">\n",
              "      <th>reality</th>\n",
              "      <th>N</th>\n",
              "      <th>Y</th>\n",
              "    </tr>\n",
              "    <tr>\n",
              "      <th>credit</th>\n",
              "      <th></th>\n",
              "      <th></th>\n",
              "    </tr>\n",
              "  </thead>\n",
              "  <tbody>\n",
              "    <tr>\n",
              "      <th>0.0</th>\n",
              "      <td>1064</td>\n",
              "      <td>2158</td>\n",
              "    </tr>\n",
              "    <tr>\n",
              "      <th>1.0</th>\n",
              "      <td>1935</td>\n",
              "      <td>4332</td>\n",
              "    </tr>\n",
              "    <tr>\n",
              "      <th>2.0</th>\n",
              "      <td>5628</td>\n",
              "      <td>11340</td>\n",
              "    </tr>\n",
              "  </tbody>\n",
              "</table>\n",
              "</div>\n",
              "      <button class=\"colab-df-convert\" onclick=\"convertToInteractive('df-daf06738-b907-46f4-b4a3-6442697a13b9')\"\n",
              "              title=\"Convert this dataframe to an interactive table.\"\n",
              "              style=\"display:none;\">\n",
              "        \n",
              "  <svg xmlns=\"http://www.w3.org/2000/svg\" height=\"24px\"viewBox=\"0 0 24 24\"\n",
              "       width=\"24px\">\n",
              "    <path d=\"M0 0h24v24H0V0z\" fill=\"none\"/>\n",
              "    <path d=\"M18.56 5.44l.94 2.06.94-2.06 2.06-.94-2.06-.94-.94-2.06-.94 2.06-2.06.94zm-11 1L8.5 8.5l.94-2.06 2.06-.94-2.06-.94L8.5 2.5l-.94 2.06-2.06.94zm10 10l.94 2.06.94-2.06 2.06-.94-2.06-.94-.94-2.06-.94 2.06-2.06.94z\"/><path d=\"M17.41 7.96l-1.37-1.37c-.4-.4-.92-.59-1.43-.59-.52 0-1.04.2-1.43.59L10.3 9.45l-7.72 7.72c-.78.78-.78 2.05 0 2.83L4 21.41c.39.39.9.59 1.41.59.51 0 1.02-.2 1.41-.59l7.78-7.78 2.81-2.81c.8-.78.8-2.07 0-2.86zM5.41 20L4 18.59l7.72-7.72 1.47 1.35L5.41 20z\"/>\n",
              "  </svg>\n",
              "      </button>\n",
              "      \n",
              "  <style>\n",
              "    .colab-df-container {\n",
              "      display:flex;\n",
              "      flex-wrap:wrap;\n",
              "      gap: 12px;\n",
              "    }\n",
              "\n",
              "    .colab-df-convert {\n",
              "      background-color: #E8F0FE;\n",
              "      border: none;\n",
              "      border-radius: 50%;\n",
              "      cursor: pointer;\n",
              "      display: none;\n",
              "      fill: #1967D2;\n",
              "      height: 32px;\n",
              "      padding: 0 0 0 0;\n",
              "      width: 32px;\n",
              "    }\n",
              "\n",
              "    .colab-df-convert:hover {\n",
              "      background-color: #E2EBFA;\n",
              "      box-shadow: 0px 1px 2px rgba(60, 64, 67, 0.3), 0px 1px 3px 1px rgba(60, 64, 67, 0.15);\n",
              "      fill: #174EA6;\n",
              "    }\n",
              "\n",
              "    [theme=dark] .colab-df-convert {\n",
              "      background-color: #3B4455;\n",
              "      fill: #D2E3FC;\n",
              "    }\n",
              "\n",
              "    [theme=dark] .colab-df-convert:hover {\n",
              "      background-color: #434B5C;\n",
              "      box-shadow: 0px 1px 3px 1px rgba(0, 0, 0, 0.15);\n",
              "      filter: drop-shadow(0px 1px 2px rgba(0, 0, 0, 0.3));\n",
              "      fill: #FFFFFF;\n",
              "    }\n",
              "  </style>\n",
              "\n",
              "      <script>\n",
              "        const buttonEl =\n",
              "          document.querySelector('#df-daf06738-b907-46f4-b4a3-6442697a13b9 button.colab-df-convert');\n",
              "        buttonEl.style.display =\n",
              "          google.colab.kernel.accessAllowed ? 'block' : 'none';\n",
              "\n",
              "        async function convertToInteractive(key) {\n",
              "          const element = document.querySelector('#df-daf06738-b907-46f4-b4a3-6442697a13b9');\n",
              "          const dataTable =\n",
              "            await google.colab.kernel.invokeFunction('convertToInteractive',\n",
              "                                                     [key], {});\n",
              "          if (!dataTable) return;\n",
              "\n",
              "          const docLinkHtml = 'Like what you see? Visit the ' +\n",
              "            '<a target=\"_blank\" href=https://colab.research.google.com/notebooks/data_table.ipynb>data table notebook</a>'\n",
              "            + ' to learn more about interactive tables.';\n",
              "          element.innerHTML = '';\n",
              "          dataTable['output_type'] = 'display_data';\n",
              "          await google.colab.output.renderOutput(dataTable, element);\n",
              "          const docLink = document.createElement('div');\n",
              "          docLink.innerHTML = docLinkHtml;\n",
              "          element.appendChild(docLink);\n",
              "        }\n",
              "      </script>\n",
              "    </div>\n",
              "  </div>\n",
              "  "
            ]
          },
          "metadata": {},
          "execution_count": 9
        },
        {
          "output_type": "display_data",
          "data": {
            "text/plain": [
              "<Figure size 432x288 with 1 Axes>"
            ],
            "image/png": "[encoded data removed]"
          },
          "metadata": {
            "needs_background": "light"
          }
        }
      ]
    },
    {
      "cell_type": "code",
      "source": [
        "#자동차와 부동산 소유 여부에 따른 \n",
        "df['car_reality'] = df['car']+df['reality']    #임의의 car_reality 컬럼 생성\n",
        "i=0\n",
        "for i in range(0,df.shape[0]):\n",
        "    if (df.car[i]=='N')&(df.reality[i]=='N'):\n",
        "        df['car_reality']=='NN'\n",
        "    elif (df.car[i]=='N')&(df.reality[i]=='Y'):\n",
        "        df['car_reality']=='NY'\n",
        "    elif (df.car[i]=='Y')&(df.reality[i]=='N'):\n",
        "        df['car_reality']=='YN'\n",
        "    else:\n",
        "        df['car_reality']=='YY'"
      ],
      "metadata": {
        "id": "oF8CId88u11r"
      },
      "execution_count": null,
      "outputs": []
    },
    {
      "cell_type": "code",
      "source": [
        "df"
      ],
      "metadata": {
        "colab": {
          "base_uri": "https://localhost:8080/",
          "height": 835
        },
        "id": "JXaT05jq_AWP",
        "outputId": "510a7755-0ab3-4a2c-ce18-8fcb1dff0181"
      },
      "execution_count": null,
      "outputs": [
        {
          "output_type": "execute_result",
          "data": {
            "text/plain": [
              "       index gender car reality  child_num  income_total  \\\n",
              "0          0      F   N       N          0      202500.0   \n",
              "1          1      F   N       Y          1      247500.0   \n",
              "2          2      M   Y       Y          0      450000.0   \n",
              "3          3      F   N       Y          0      202500.0   \n",
              "4          4      F   Y       Y          0      157500.0   \n",
              "...      ...    ...  ..     ...        ...           ...   \n",
              "26452  26452      F   N       N          2      225000.0   \n",
              "26453  26453      F   N       Y          1      180000.0   \n",
              "26454  26454      F   Y       N          0      292500.0   \n",
              "26455  26455      M   N       Y          0      171000.0   \n",
              "26456  26456      F   N       N          0       81000.0   \n",
              "\n",
              "                income_type                       edu_type  \\\n",
              "0      Commercial associate               Higher education   \n",
              "1      Commercial associate  Secondary / secondary special   \n",
              "2                   Working               Higher education   \n",
              "3      Commercial associate  Secondary / secondary special   \n",
              "4             State servant               Higher education   \n",
              "...                     ...                            ...   \n",
              "26452         State servant  Secondary / secondary special   \n",
              "26453               Working               Higher education   \n",
              "26454               Working  Secondary / secondary special   \n",
              "26455               Working              Incomplete higher   \n",
              "26456               Working  Secondary / secondary special   \n",
              "\n",
              "                family_type           house_type  ...  DAYS_EMPLOYED  \\\n",
              "0                   Married  Municipal apartment  ...          -4709   \n",
              "1            Civil marriage    House / apartment  ...          -1540   \n",
              "2                   Married    House / apartment  ...          -4434   \n",
              "3                   Married    House / apartment  ...          -2092   \n",
              "4                   Married    House / apartment  ...          -2105   \n",
              "...                     ...                  ...  ...            ...   \n",
              "26452               Married    House / apartment  ...          -1984   \n",
              "26453             Separated    House / apartment  ...          -2475   \n",
              "26454        Civil marriage         With parents  ...          -2015   \n",
              "26455  Single / not married    House / apartment  ...           -107   \n",
              "26456        Civil marriage    House / apartment  ...          -1013   \n",
              "\n",
              "       FLAG_MOBIL  work_phone  phone  email      occyp_type family_size  \\\n",
              "0               1           0      0      0             NaN         2.0   \n",
              "1               1           0      0      1        Laborers         3.0   \n",
              "2               1           0      1      0        Managers         2.0   \n",
              "3               1           0      1      0     Sales staff         2.0   \n",
              "4               1           0      0      0        Managers         2.0   \n",
              "...           ...         ...    ...    ...             ...         ...   \n",
              "26452           1           0      0      0      Core staff         4.0   \n",
              "26453           1           0      0      0             NaN         2.0   \n",
              "26454           1           0      0      0      Core staff         2.0   \n",
              "26455           1           0      0      0        Laborers         1.0   \n",
              "26456           1           0      0      0  Security staff         2.0   \n",
              "\n",
              "       begin_month  credit  car_reality  \n",
              "0             -6.0     1.0           NN  \n",
              "1             -5.0     1.0           NY  \n",
              "2            -22.0     2.0           YY  \n",
              "3            -37.0     0.0           NY  \n",
              "4            -26.0     2.0           YY  \n",
              "...            ...     ...          ...  \n",
              "26452         -2.0     1.0           NN  \n",
              "26453        -47.0     2.0           NY  \n",
              "26454        -25.0     2.0           YN  \n",
              "26455        -59.0     2.0           NY  \n",
              "26456         -9.0     2.0           NN  \n",
              "\n",
              "[26457 rows x 21 columns]"
            ],
            "text/html": [
              "\n",
              "  <div id=\"df-d29002b5-386b-45a0-b347-c921ed17c07c\">\n",
              "    <div class=\"colab-df-container\">\n",
              "      <div>\n",
              "<style scoped>\n",
              "    .dataframe tbody tr th:only-of-type {\n",
              "        vertical-align: middle;\n",
              "    }\n",
              "\n",
              "    .dataframe tbody tr th {\n",
              "        vertical-align: top;\n",
              "    }\n",
              "\n",
              "    .dataframe thead th {\n",
              "        text-align: right;\n",
              "    }\n",
              "</style>\n",
              "<table border=\"1\" class=\"dataframe\">\n",
              "  <thead>\n",
              "    <tr style=\"text-align: right;\">\n",
              "      <th></th>\n",
              "      <th>index</th>\n",
              "      <th>gender</th>\n",
              "      <th>car</th>\n",
              "      <th>reality</th>\n",
              "      <th>child_num</th>\n",
              "      <th>income_total</th>\n",
              "      <th>income_type</th>\n",
              "      <th>edu_type</th>\n",
              "      <th>family_type</th>\n",
              "      <th>house_type</th>\n",
              "      <th>...</th>\n",
              "      <th>DAYS_EMPLOYED</th>\n",
              "      <th>FLAG_MOBIL</th>\n",
              "      <th>work_phone</th>\n",
              "      <th>phone</th>\n",
              "      <th>email</th>\n",
              "      <th>occyp_type</th>\n",
              "      <th>family_size</th>\n",
              "      <th>begin_month</th>\n",
              "      <th>credit</th>\n",
              "      <th>car_reality</th>\n",
              "    </tr>\n",
              "  </thead>\n",
              "  <tbody>\n",
              "    <tr>\n",
              "      <th>0</th>\n",
              "      <td>0</td>\n",
              "      <td>F</td>\n",
              "      <td>N</td>\n",
              "      <td>N</td>\n",
              "      <td>0</td>\n",
              "      <td>202500.0</td>\n",
              "      <td>Commercial associate</td>\n",
              "      <td>Higher education</td>\n",
              "      <td>Married</td>\n",
              "      <td>Municipal apartment</td>\n",
              "      <td>...</td>\n",
              "      <td>-4709</td>\n",
              "      <td>1</td>\n",
              "      <td>0</td>\n",
              "      <td>0</td>\n",
              "      <td>0</td>\n",
              "      <td>NaN</td>\n",
              "      <td>2.0</td>\n",
              "      <td>-6.0</td>\n",
              "      <td>1.0</td>\n",
              "      <td>NN</td>\n",
              "    </tr>\n",
              "    <tr>\n",
              "      <th>1</th>\n",
              "      <td>1</td>\n",
              "      <td>F</td>\n",
              "      <td>N</td>\n",
              "      <td>Y</td>\n",
              "      <td>1</td>\n",
              "      <td>247500.0</td>\n",
              "      <td>Commercial associate</td>\n",
              "      <td>Secondary / secondary special</td>\n",
              "      <td>Civil marriage</td>\n",
              "      <td>House / apartment</td>\n",
              "      <td>...</td>\n",
              "      <td>-1540</td>\n",
              "      <td>1</td>\n",
              "      <td>0</td>\n",
              "      <td>0</td>\n",
              "      <td>1</td>\n",
              "      <td>Laborers</td>\n",
              "      <td>3.0</td>\n",
              "      <td>-5.0</td>\n",
              "      <td>1.0</td>\n",
              "      <td>NY</td>\n",
              "    </tr>\n",
              "    <tr>\n",
              "      <th>2</th>\n",
              "      <td>2</td>\n",
              "      <td>M</td>\n",
              "      <td>Y</td>\n",
              "      <td>Y</td>\n",
              "      <td>0</td>\n",
              "      <td>450000.0</td>\n",
              "      <td>Working</td>\n",
              "      <td>Higher education</td>\n",
              "      <td>Married</td>\n",
              "      <td>House / apartment</td>\n",
              "      <td>...</td>\n",
              "      <td>-4434</td>\n",
              "      <td>1</td>\n",
              "      <td>0</td>\n",
              "      <td>1</td>\n",
              "      <td>0</td>\n",
              "      <td>Managers</td>\n",
              "      <td>2.0</td>\n",
              "      <td>-22.0</td>\n",
              "      <td>2.0</td>\n",
              "      <td>YY</td>\n",
              "    </tr>\n",
              "    <tr>\n",
              "      <th>3</th>\n",
              "      <td>3</td>\n",
              "      <td>F</td>\n",
              "      <td>N</td>\n",
              "      <td>Y</td>\n",
              "      <td>0</td>\n",
              "      <td>202500.0</td>\n",
              "      <td>Commercial associate</td>\n",
              "      <td>Secondary / secondary special</td>\n",
              "      <td>Married</td>\n",
              "      <td>House / apartment</td>\n",
              "      <td>...</td>\n",
              "      <td>-2092</td>\n",
              "      <td>1</td>\n",
              "      <td>0</td>\n",
              "      <td>1</td>\n",
              "      <td>0</td>\n",
              "      <td>Sales staff</td>\n",
              "      <td>2.0</td>\n",
              "      <td>-37.0</td>\n",
              "      <td>0.0</td>\n",
              "      <td>NY</td>\n",
              "    </tr>\n",
              "    <tr>\n",
              "      <th>4</th>\n",
              "      <td>4</td>\n",
              "      <td>F</td>\n",
              "      <td>Y</td>\n",
              "      <td>Y</td>\n",
              "      <td>0</td>\n",
              "      <td>157500.0</td>\n",
              "      <td>State servant</td>\n",
              "      <td>Higher education</td>\n",
              "      <td>Married</td>\n",
              "      <td>House / apartment</td>\n",
              "      <td>...</td>\n",
              "      <td>-2105</td>\n",
              "      <td>1</td>\n",
              "      <td>0</td>\n",
              "      <td>0</td>\n",
              "      <td>0</td>\n",
              "      <td>Managers</td>\n",
              "      <td>2.0</td>\n",
              "      <td>-26.0</td>\n",
              "      <td>2.0</td>\n",
              "      <td>YY</td>\n",
              "    </tr>\n",
              "    <tr>\n",
              "      <th>...</th>\n",
              "      <td>...</td>\n",
              "      <td>...</td>\n",
              "      <td>...</td>\n",
              "      <td>...</td>\n",
              "      <td>...</td>\n",
              "      <td>...</td>\n",
              "      <td>...</td>\n",
              "      <td>...</td>\n",
              "      <td>...</td>\n",
              "      <td>...</td>\n",
              "      <td>...</td>\n",
              "      <td>...</td>\n",
              "      <td>...</td>\n",
              "      <td>...</td>\n",
              "      <td>...</td>\n",
              "      <td>...</td>\n",
              "      <td>...</td>\n",
              "      <td>...</td>\n",
              "      <td>...</td>\n",
              "      <td>...</td>\n",
              "      <td>...</td>\n",
              "    </tr>\n",
              "    <tr>\n",
              "      <th>26452</th>\n",
              "      <td>26452</td>\n",
              "      <td>F</td>\n",
              "      <td>N</td>\n",
              "      <td>N</td>\n",
              "      <td>2</td>\n",
              "      <td>225000.0</td>\n",
              "      <td>State servant</td>\n",
              "      <td>Secondary / secondary special</td>\n",
              "      <td>Married</td>\n",
              "      <td>House / apartment</td>\n",
              "      <td>...</td>\n",
              "      <td>-1984</td>\n",
              "      <td>1</td>\n",
              "      <td>0</td>\n",
              "      <td>0</td>\n",
              "      <td>0</td>\n",
              "      <td>Core staff</td>\n",
              "      <td>4.0</td>\n",
              "      <td>-2.0</td>\n",
              "      <td>1.0</td>\n",
              "      <td>NN</td>\n",
              "    </tr>\n",
              "    <tr>\n",
              "      <th>26453</th>\n",
              "      <td>26453</td>\n",
              "      <td>F</td>\n",
              "      <td>N</td>\n",
              "      <td>Y</td>\n",
              "      <td>1</td>\n",
              "      <td>180000.0</td>\n",
              "      <td>Working</td>\n",
              "      <td>Higher education</td>\n",
              "      <td>Separated</td>\n",
              "      <td>House / apartment</td>\n",
              "      <td>...</td>\n",
              "      <td>-2475</td>\n",
              "      <td>1</td>\n",
              "      <td>0</td>\n",
              "      <td>0</td>\n",
              "      <td>0</td>\n",
              "      <td>NaN</td>\n",
              "      <td>2.0</td>\n",
              "      <td>-47.0</td>\n",
              "      <td>2.0</td>\n",
              "      <td>NY</td>\n",
              "    </tr>\n",
              "    <tr>\n",
              "      <th>26454</th>\n",
              "      <td>26454</td>\n",
              "      <td>F</td>\n",
              "      <td>Y</td>\n",
              "      <td>N</td>\n",
              "      <td>0</td>\n",
              "      <td>292500.0</td>\n",
              "      <td>Working</td>\n",
              "      <td>Secondary / secondary special</td>\n",
              "      <td>Civil marriage</td>\n",
              "      <td>With parents</td>\n",
              "      <td>...</td>\n",
              "      <td>-2015</td>\n",
              "      <td>1</td>\n",
              "      <td>0</td>\n",
              "      <td>0</td>\n",
              "      <td>0</td>\n",
              "      <td>Core staff</td>\n",
              "      <td>2.0</td>\n",
              "      <td>-25.0</td>\n",
              "      <td>2.0</td>\n",
              "      <td>YN</td>\n",
              "    </tr>\n",
              "    <tr>\n",
              "      <th>26455</th>\n",
              "      <td>26455</td>\n",
              "      <td>M</td>\n",
              "      <td>N</td>\n",
              "      <td>Y</td>\n",
              "      <td>0</td>\n",
              "      <td>171000.0</td>\n",
              "      <td>Working</td>\n",
              "      <td>Incomplete higher</td>\n",
              "      <td>Single / not married</td>\n",
              "      <td>House / apartment</td>\n",
              "      <td>...</td>\n",
              "      <td>-107</td>\n",
              "      <td>1</td>\n",
              "      <td>0</td>\n",
              "      <td>0</td>\n",
              "      <td>0</td>\n",
              "      <td>Laborers</td>\n",
              "      <td>1.0</td>\n",
              "      <td>-59.0</td>\n",
              "      <td>2.0</td>\n",
              "      <td>NY</td>\n",
              "    </tr>\n",
              "    <tr>\n",
              "      <th>26456</th>\n",
              "      <td>26456</td>\n",
              "      <td>F</td>\n",
              "      <td>N</td>\n",
              "      <td>N</td>\n",
              "      <td>0</td>\n",
              "      <td>81000.0</td>\n",
              "      <td>Working</td>\n",
              "      <td>Secondary / secondary special</td>\n",
              "      <td>Civil marriage</td>\n",
              "      <td>House / apartment</td>\n",
              "      <td>...</td>\n",
              "      <td>-1013</td>\n",
              "      <td>1</td>\n",
              "      <td>0</td>\n",
              "      <td>0</td>\n",
              "      <td>0</td>\n",
              "      <td>Security staff</td>\n",
              "      <td>2.0</td>\n",
              "      <td>-9.0</td>\n",
              "      <td>2.0</td>\n",
              "      <td>NN</td>\n",
              "    </tr>\n",
              "  </tbody>\n",
              "</table>\n",
              "<p>26457 rows × 21 columns</p>\n",
              "</div>\n",
              "      <button class=\"colab-df-convert\" onclick=\"convertToInteractive('df-d29002b5-386b-45a0-b347-c921ed17c07c')\"\n",
              "              title=\"Convert this dataframe to an interactive table.\"\n",
              "              style=\"display:none;\">\n",
              "        \n",
              "  <svg xmlns=\"http://www.w3.org/2000/svg\" height=\"24px\"viewBox=\"0 0 24 24\"\n",
              "       width=\"24px\">\n",
              "    <path d=\"M0 0h24v24H0V0z\" fill=\"none\"/>\n",
              "    <path d=\"M18.56 5.44l.94 2.06.94-2.06 2.06-.94-2.06-.94-.94-2.06-.94 2.06-2.06.94zm-11 1L8.5 8.5l.94-2.06 2.06-.94-2.06-.94L8.5 2.5l-.94 2.06-2.06.94zm10 10l.94 2.06.94-2.06 2.06-.94-2.06-.94-.94-2.06-.94 2.06-2.06.94z\"/><path d=\"M17.41 7.96l-1.37-1.37c-.4-.4-.92-.59-1.43-.59-.52 0-1.04.2-1.43.59L10.3 9.45l-7.72 7.72c-.78.78-.78 2.05 0 2.83L4 21.41c.39.39.9.59 1.41.59.51 0 1.02-.2 1.41-.59l7.78-7.78 2.81-2.81c.8-.78.8-2.07 0-2.86zM5.41 20L4 18.59l7.72-7.72 1.47 1.35L5.41 20z\"/>\n",
              "  </svg>\n",
              "      </button>\n",
              "      \n",
              "  <style>\n",
              "    .colab-df-container {\n",
              "      display:flex;\n",
              "      flex-wrap:wrap;\n",
              "      gap: 12px;\n",
              "    }\n",
              "\n",
              "    .colab-df-convert {\n",
              "      background-color: #E8F0FE;\n",
              "      border: none;\n",
              "      border-radius: 50%;\n",
              "      cursor: pointer;\n",
              "      display: none;\n",
              "      fill: #1967D2;\n",
              "      height: 32px;\n",
              "      padding: 0 0 0 0;\n",
              "      width: 32px;\n",
              "    }\n",
              "\n",
              "    .colab-df-convert:hover {\n",
              "      background-color: #E2EBFA;\n",
              "      box-shadow: 0px 1px 2px rgba(60, 64, 67, 0.3), 0px 1px 3px 1px rgba(60, 64, 67, 0.15);\n",
              "      fill: #174EA6;\n",
              "    }\n",
              "\n",
              "    [theme=dark] .colab-df-convert {\n",
              "      background-color: #3B4455;\n",
              "      fill: #D2E3FC;\n",
              "    }\n",
              "\n",
              "    [theme=dark] .colab-df-convert:hover {\n",
              "      background-color: #434B5C;\n",
              "      box-shadow: 0px 1px 3px 1px rgba(0, 0, 0, 0.15);\n",
              "      filter: drop-shadow(0px 1px 2px rgba(0, 0, 0, 0.3));\n",
              "      fill: #FFFFFF;\n",
              "    }\n",
              "  </style>\n",
              "\n",
              "      <script>\n",
              "        const buttonEl =\n",
              "          document.querySelector('#df-d29002b5-386b-45a0-b347-c921ed17c07c button.colab-df-convert');\n",
              "        buttonEl.style.display =\n",
              "          google.colab.kernel.accessAllowed ? 'block' : 'none';\n",
              "\n",
              "        async function convertToInteractive(key) {\n",
              "          const element = document.querySelector('#df-d29002b5-386b-45a0-b347-c921ed17c07c');\n",
              "          const dataTable =\n",
              "            await google.colab.kernel.invokeFunction('convertToInteractive',\n",
              "                                                     [key], {});\n",
              "          if (!dataTable) return;\n",
              "\n",
              "          const docLinkHtml = 'Like what you see? Visit the ' +\n",
              "            '<a target=\"_blank\" href=https://colab.research.google.com/notebooks/data_table.ipynb>data table notebook</a>'\n",
              "            + ' to learn more about interactive tables.';\n",
              "          element.innerHTML = '';\n",
              "          dataTable['output_type'] = 'display_data';\n",
              "          await google.colab.output.renderOutput(dataTable, element);\n",
              "          const docLink = document.createElement('div');\n",
              "          docLink.innerHTML = docLinkHtml;\n",
              "          element.appendChild(docLink);\n",
              "        }\n",
              "      </script>\n",
              "    </div>\n",
              "  </div>\n",
              "  "
            ]
          },
          "metadata": {},
          "execution_count": 11
        }
      ]
    },
    {
      "cell_type": "code",
      "source": [
        "grouped = df['credit'].groupby(df['car_reality'])\n",
        "grouped.describe()\n",
        "\n",
        "#차는 없고, 집이 있는 사람의 신용도가 다른 경우에 비해 높았음"
      ],
      "metadata": {
        "id": "w9smNUOBu3a6",
        "colab": {
          "base_uri": "https://localhost:8080/",
          "height": 206
        },
        "outputId": "0ef4b1d9-7f82-4cb5-8bc0-6f19747ca091"
      },
      "execution_count": null,
      "outputs": [
        {
          "output_type": "execute_result",
          "data": {
            "text/plain": [
              "               count      mean       std  min  25%  50%  75%  max\n",
              "car_reality                                                      \n",
              "NN            5251.0  1.534374  0.694543  0.0  1.0  2.0  2.0  2.0\n",
              "NY           11159.0  1.506318  0.703823  0.0  1.0  2.0  2.0  2.0\n",
              "YN            3376.0  1.520735  0.718960  0.0  1.0  2.0  2.0  2.0\n",
              "YY            6671.0  1.529456  0.696959  0.0  1.0  2.0  2.0  2.0"
            ],
            "text/html": [
              "\n",
              "  <div id=\"df-4f16a4c4-86d0-430d-bccc-a8afc6f67d58\">\n",
              "    <div class=\"colab-df-container\">\n",
              "      <div>\n",
              "<style scoped>\n",
              "    .dataframe tbody tr th:only-of-type {\n",
              "        vertical-align: middle;\n",
              "    }\n",
              "\n",
              "    .dataframe tbody tr th {\n",
              "        vertical-align: top;\n",
              "    }\n",
              "\n",
              "    .dataframe thead th {\n",
              "        text-align: right;\n",
              "    }\n",
              "</style>\n",
              "<table border=\"1\" class=\"dataframe\">\n",
              "  <thead>\n",
              "    <tr style=\"text-align: right;\">\n",
              "      <th></th>\n",
              "      <th>count</th>\n",
              "      <th>mean</th>\n",
              "      <th>std</th>\n",
              "      <th>min</th>\n",
              "      <th>25%</th>\n",
              "      <th>50%</th>\n",
              "      <th>75%</th>\n",
              "      <th>max</th>\n",
              "    </tr>\n",
              "    <tr>\n",
              "      <th>car_reality</th>\n",
              "      <th></th>\n",
              "      <th></th>\n",
              "      <th></th>\n",
              "      <th></th>\n",
              "      <th></th>\n",
              "      <th></th>\n",
              "      <th></th>\n",
              "      <th></th>\n",
              "    </tr>\n",
              "  </thead>\n",
              "  <tbody>\n",
              "    <tr>\n",
              "      <th>NN</th>\n",
              "      <td>5251.0</td>\n",
              "      <td>1.534374</td>\n",
              "      <td>0.694543</td>\n",
              "      <td>0.0</td>\n",
              "      <td>1.0</td>\n",
              "      <td>2.0</td>\n",
              "      <td>2.0</td>\n",
              "      <td>2.0</td>\n",
              "    </tr>\n",
              "    <tr>\n",
              "      <th>NY</th>\n",
              "      <td>11159.0</td>\n",
              "      <td>1.506318</td>\n",
              "      <td>0.703823</td>\n",
              "      <td>0.0</td>\n",
              "      <td>1.0</td>\n",
              "      <td>2.0</td>\n",
              "      <td>2.0</td>\n",
              "      <td>2.0</td>\n",
              "    </tr>\n",
              "    <tr>\n",
              "      <th>YN</th>\n",
              "      <td>3376.0</td>\n",
              "      <td>1.520735</td>\n",
              "      <td>0.718960</td>\n",
              "      <td>0.0</td>\n",
              "      <td>1.0</td>\n",
              "      <td>2.0</td>\n",
              "      <td>2.0</td>\n",
              "      <td>2.0</td>\n",
              "    </tr>\n",
              "    <tr>\n",
              "      <th>YY</th>\n",
              "      <td>6671.0</td>\n",
              "      <td>1.529456</td>\n",
              "      <td>0.696959</td>\n",
              "      <td>0.0</td>\n",
              "      <td>1.0</td>\n",
              "      <td>2.0</td>\n",
              "      <td>2.0</td>\n",
              "      <td>2.0</td>\n",
              "    </tr>\n",
              "  </tbody>\n",
              "</table>\n",
              "</div>\n",
              "      <button class=\"colab-df-convert\" onclick=\"convertToInteractive('df-4f16a4c4-86d0-430d-bccc-a8afc6f67d58')\"\n",
              "              title=\"Convert this dataframe to an interactive table.\"\n",
              "              style=\"display:none;\">\n",
              "        \n",
              "  <svg xmlns=\"http://www.w3.org/2000/svg\" height=\"24px\"viewBox=\"0 0 24 24\"\n",
              "       width=\"24px\">\n",
              "    <path d=\"M0 0h24v24H0V0z\" fill=\"none\"/>\n",
              "    <path d=\"M18.56 5.44l.94 2.06.94-2.06 2.06-.94-2.06-.94-.94-2.06-.94 2.06-2.06.94zm-11 1L8.5 8.5l.94-2.06 2.06-.94-2.06-.94L8.5 2.5l-.94 2.06-2.06.94zm10 10l.94 2.06.94-2.06 2.06-.94-2.06-.94-.94-2.06-.94 2.06-2.06.94z\"/><path d=\"M17.41 7.96l-1.37-1.37c-.4-.4-.92-.59-1.43-.59-.52 0-1.04.2-1.43.59L10.3 9.45l-7.72 7.72c-.78.78-.78 2.05 0 2.83L4 21.41c.39.39.9.59 1.41.59.51 0 1.02-.2 1.41-.59l7.78-7.78 2.81-2.81c.8-.78.8-2.07 0-2.86zM5.41 20L4 18.59l7.72-7.72 1.47 1.35L5.41 20z\"/>\n",
              "  </svg>\n",
              "      </button>\n",
              "      \n",
              "  <style>\n",
              "    .colab-df-container {\n",
              "      display:flex;\n",
              "      flex-wrap:wrap;\n",
              "      gap: 12px;\n",
              "    }\n",
              "\n",
              "    .colab-df-convert {\n",
              "      background-color: #E8F0FE;\n",
              "      border: none;\n",
              "      border-radius: 50%;\n",
              "      cursor: pointer;\n",
              "      display: none;\n",
              "      fill: #1967D2;\n",
              "      height: 32px;\n",
              "      padding: 0 0 0 0;\n",
              "      width: 32px;\n",
              "    }\n",
              "\n",
              "    .colab-df-convert:hover {\n",
              "      background-color: #E2EBFA;\n",
              "      box-shadow: 0px 1px 2px rgba(60, 64, 67, 0.3), 0px 1px 3px 1px rgba(60, 64, 67, 0.15);\n",
              "      fill: #174EA6;\n",
              "    }\n",
              "\n",
              "    [theme=dark] .colab-df-convert {\n",
              "      background-color: #3B4455;\n",
              "      fill: #D2E3FC;\n",
              "    }\n",
              "\n",
              "    [theme=dark] .colab-df-convert:hover {\n",
              "      background-color: #434B5C;\n",
              "      box-shadow: 0px 1px 3px 1px rgba(0, 0, 0, 0.15);\n",
              "      filter: drop-shadow(0px 1px 2px rgba(0, 0, 0, 0.3));\n",
              "      fill: #FFFFFF;\n",
              "    }\n",
              "  </style>\n",
              "\n",
              "      <script>\n",
              "        const buttonEl =\n",
              "          document.querySelector('#df-4f16a4c4-86d0-430d-bccc-a8afc6f67d58 button.colab-df-convert');\n",
              "        buttonEl.style.display =\n",
              "          google.colab.kernel.accessAllowed ? 'block' : 'none';\n",
              "\n",
              "        async function convertToInteractive(key) {\n",
              "          const element = document.querySelector('#df-4f16a4c4-86d0-430d-bccc-a8afc6f67d58');\n",
              "          const dataTable =\n",
              "            await google.colab.kernel.invokeFunction('convertToInteractive',\n",
              "                                                     [key], {});\n",
              "          if (!dataTable) return;\n",
              "\n",
              "          const docLinkHtml = 'Like what you see? Visit the ' +\n",
              "            '<a target=\"_blank\" href=https://colab.research.google.com/notebooks/data_table.ipynb>data table notebook</a>'\n",
              "            + ' to learn more about interactive tables.';\n",
              "          element.innerHTML = '';\n",
              "          dataTable['output_type'] = 'display_data';\n",
              "          await google.colab.output.renderOutput(dataTable, element);\n",
              "          const docLink = document.createElement('div');\n",
              "          docLink.innerHTML = docLinkHtml;\n",
              "          element.appendChild(docLink);\n",
              "        }\n",
              "      </script>\n",
              "    </div>\n",
              "  </div>\n",
              "  "
            ]
          },
          "metadata": {},
          "execution_count": 12
        }
      ]
    },
    {
      "cell_type": "code",
      "source": [
        "grouped = df['income_total'].groupby(df['car_reality'])\n",
        "grouped.describe()\n",
        "\n",
        "#그렇다고 car_reality=='NY'인 사람의 연간소득이 다른 범주에 비해 높은 것은 아니었음"
      ],
      "metadata": {
        "id": "zY0x9X-lu4wt",
        "colab": {
          "base_uri": "https://localhost:8080/",
          "height": 206
        },
        "outputId": "6a971a5c-45d5-4159-85d6-4c4151a8e3b2"
      },
      "execution_count": null,
      "outputs": [
        {
          "output_type": "execute_result",
          "data": {
            "text/plain": [
              "               count           mean            std      min       25%  \\\n",
              "car_reality                                                             \n",
              "NN            5251.0  164107.806513   79569.893054  27000.0  112500.0   \n",
              "NY           11159.0  173203.390985   91626.086258  27000.0  112500.0   \n",
              "YN            3376.0  210149.268217  111424.076687  31500.0  135000.0   \n",
              "YY            6671.0  217598.269675  117983.596536  29250.0  135000.0   \n",
              "\n",
              "                  50%       75%        max  \n",
              "car_reality                                 \n",
              "NN           144000.0  202500.0   990000.0  \n",
              "NY           157500.0  202500.0   945000.0  \n",
              "YN           184500.0  261000.0  1350000.0  \n",
              "YY           198000.0  270000.0  1575000.0  "
            ],
            "text/html": [
              "\n",
              "  <div id=\"df-e488635f-f714-489a-855f-e1958de7e17c\">\n",
              "    <div class=\"colab-df-container\">\n",
              "      <div>\n",
              "<style scoped>\n",
              "    .dataframe tbody tr th:only-of-type {\n",
              "        vertical-align: middle;\n",
              "    }\n",
              "\n",
              "    .dataframe tbody tr th {\n",
              "        vertical-align: top;\n",
              "    }\n",
              "\n",
              "    .dataframe thead th {\n",
              "        text-align: right;\n",
              "    }\n",
              "</style>\n",
              "<table border=\"1\" class=\"dataframe\">\n",
              "  <thead>\n",
              "    <tr style=\"text-align: right;\">\n",
              "      <th></th>\n",
              "      <th>count</th>\n",
              "      <th>mean</th>\n",
              "      <th>std</th>\n",
              "      <th>min</th>\n",
              "      <th>25%</th>\n",
              "      <th>50%</th>\n",
              "      <th>75%</th>\n",
              "      <th>max</th>\n",
              "    </tr>\n",
              "    <tr>\n",
              "      <th>car_reality</th>\n",
              "      <th></th>\n",
              "      <th></th>\n",
              "      <th></th>\n",
              "      <th></th>\n",
              "      <th></th>\n",
              "      <th></th>\n",
              "      <th></th>\n",
              "      <th></th>\n",
              "    </tr>\n",
              "  </thead>\n",
              "  <tbody>\n",
              "    <tr>\n",
              "      <th>NN</th>\n",
              "      <td>5251.0</td>\n",
              "      <td>164107.806513</td>\n",
              "      <td>79569.893054</td>\n",
              "      <td>27000.0</td>\n",
              "      <td>112500.0</td>\n",
              "      <td>144000.0</td>\n",
              "      <td>202500.0</td>\n",
              "      <td>990000.0</td>\n",
              "    </tr>\n",
              "    <tr>\n",
              "      <th>NY</th>\n",
              "      <td>11159.0</td>\n",
              "      <td>173203.390985</td>\n",
              "      <td>91626.086258</td>\n",
              "      <td>27000.0</td>\n",
              "      <td>112500.0</td>\n",
              "      <td>157500.0</td>\n",
              "      <td>202500.0</td>\n",
              "      <td>945000.0</td>\n",
              "    </tr>\n",
              "    <tr>\n",
              "      <th>YN</th>\n",
              "      <td>3376.0</td>\n",
              "      <td>210149.268217</td>\n",
              "      <td>111424.076687</td>\n",
              "      <td>31500.0</td>\n",
              "      <td>135000.0</td>\n",
              "      <td>184500.0</td>\n",
              "      <td>261000.0</td>\n",
              "      <td>1350000.0</td>\n",
              "    </tr>\n",
              "    <tr>\n",
              "      <th>YY</th>\n",
              "      <td>6671.0</td>\n",
              "      <td>217598.269675</td>\n",
              "      <td>117983.596536</td>\n",
              "      <td>29250.0</td>\n",
              "      <td>135000.0</td>\n",
              "      <td>198000.0</td>\n",
              "      <td>270000.0</td>\n",
              "      <td>1575000.0</td>\n",
              "    </tr>\n",
              "  </tbody>\n",
              "</table>\n",
              "</div>\n",
              "      <button class=\"colab-df-convert\" onclick=\"convertToInteractive('df-e488635f-f714-489a-855f-e1958de7e17c')\"\n",
              "              title=\"Convert this dataframe to an interactive table.\"\n",
              "              style=\"display:none;\">\n",
              "        \n",
              "  <svg xmlns=\"http://www.w3.org/2000/svg\" height=\"24px\"viewBox=\"0 0 24 24\"\n",
              "       width=\"24px\">\n",
              "    <path d=\"M0 0h24v24H0V0z\" fill=\"none\"/>\n",
              "    <path d=\"M18.56 5.44l.94 2.06.94-2.06 2.06-.94-2.06-.94-.94-2.06-.94 2.06-2.06.94zm-11 1L8.5 8.5l.94-2.06 2.06-.94-2.06-.94L8.5 2.5l-.94 2.06-2.06.94zm10 10l.94 2.06.94-2.06 2.06-.94-2.06-.94-.94-2.06-.94 2.06-2.06.94z\"/><path d=\"M17.41 7.96l-1.37-1.37c-.4-.4-.92-.59-1.43-.59-.52 0-1.04.2-1.43.59L10.3 9.45l-7.72 7.72c-.78.78-.78 2.05 0 2.83L4 21.41c.39.39.9.59 1.41.59.51 0 1.02-.2 1.41-.59l7.78-7.78 2.81-2.81c.8-.78.8-2.07 0-2.86zM5.41 20L4 18.59l7.72-7.72 1.47 1.35L5.41 20z\"/>\n",
              "  </svg>\n",
              "      </button>\n",
              "      \n",
              "  <style>\n",
              "    .colab-df-container {\n",
              "      display:flex;\n",
              "      flex-wrap:wrap;\n",
              "      gap: 12px;\n",
              "    }\n",
              "\n",
              "    .colab-df-convert {\n",
              "      background-color: #E8F0FE;\n",
              "      border: none;\n",
              "      border-radius: 50%;\n",
              "      cursor: pointer;\n",
              "      display: none;\n",
              "      fill: #1967D2;\n",
              "      height: 32px;\n",
              "      padding: 0 0 0 0;\n",
              "      width: 32px;\n",
              "    }\n",
              "\n",
              "    .colab-df-convert:hover {\n",
              "      background-color: #E2EBFA;\n",
              "      box-shadow: 0px 1px 2px rgba(60, 64, 67, 0.3), 0px 1px 3px 1px rgba(60, 64, 67, 0.15);\n",
              "      fill: #174EA6;\n",
              "    }\n",
              "\n",
              "    [theme=dark] .colab-df-convert {\n",
              "      background-color: #3B4455;\n",
              "      fill: #D2E3FC;\n",
              "    }\n",
              "\n",
              "    [theme=dark] .colab-df-convert:hover {\n",
              "      background-color: #434B5C;\n",
              "      box-shadow: 0px 1px 3px 1px rgba(0, 0, 0, 0.15);\n",
              "      filter: drop-shadow(0px 1px 2px rgba(0, 0, 0, 0.3));\n",
              "      fill: #FFFFFF;\n",
              "    }\n",
              "  </style>\n",
              "\n",
              "      <script>\n",
              "        const buttonEl =\n",
              "          document.querySelector('#df-e488635f-f714-489a-855f-e1958de7e17c button.colab-df-convert');\n",
              "        buttonEl.style.display =\n",
              "          google.colab.kernel.accessAllowed ? 'block' : 'none';\n",
              "\n",
              "        async function convertToInteractive(key) {\n",
              "          const element = document.querySelector('#df-e488635f-f714-489a-855f-e1958de7e17c');\n",
              "          const dataTable =\n",
              "            await google.colab.kernel.invokeFunction('convertToInteractive',\n",
              "                                                     [key], {});\n",
              "          if (!dataTable) return;\n",
              "\n",
              "          const docLinkHtml = 'Like what you see? Visit the ' +\n",
              "            '<a target=\"_blank\" href=https://colab.research.google.com/notebooks/data_table.ipynb>data table notebook</a>'\n",
              "            + ' to learn more about interactive tables.';\n",
              "          element.innerHTML = '';\n",
              "          dataTable['output_type'] = 'display_data';\n",
              "          await google.colab.output.renderOutput(dataTable, element);\n",
              "          const docLink = document.createElement('div');\n",
              "          docLink.innerHTML = docLinkHtml;\n",
              "          element.appendChild(docLink);\n",
              "        }\n",
              "      </script>\n",
              "    </div>\n",
              "  </div>\n",
              "  "
            ]
          },
          "metadata": {},
          "execution_count": 13
        }
      ]
    },
    {
      "cell_type": "code",
      "source": [
        "print(df[(df.car_reality=='NY')&(df.income_total<173203.39)].credit.mean(), '연간 소득이 평균보다 낮은 고객 신용도')\n",
        "print(df[(df.car_reality=='NY')&(df.income_total>173203.39)].credit.mean(), '연간 소득이 평균보다 높은 고객 신용도')"
      ],
      "metadata": {
        "id": "GrGCQRqKu5_-",
        "colab": {
          "base_uri": "https://localhost:8080/"
        },
        "outputId": "8b1a51dd-638b-402a-e329-196a3dc96b3b"
      },
      "execution_count": null,
      "outputs": [
        {
          "output_type": "stream",
          "name": "stdout",
          "text": [
            "1.5039879608728368 연간 소득이 평균보다 낮은 고객 신용도\n",
            "1.509747452370403 연간 소득이 평균보다 높은 고객 신용도\n"
          ]
        }
      ]
    },
    {
      "cell_type": "markdown",
      "source": [
        "4. 자녀 수"
      ],
      "metadata": {
        "id": "Aq8kGdhdvZ36"
      }
    },
    {
      "cell_type": "code",
      "source": [
        "df.child_num.value_counts()"
      ],
      "metadata": {
        "id": "azpcYw_pvcby",
        "colab": {
          "base_uri": "https://localhost:8080/"
        },
        "outputId": "45ace049-ab4f-4580-b037-41eeba9c8f90"
      },
      "execution_count": null,
      "outputs": [
        {
          "output_type": "execute_result",
          "data": {
            "text/plain": [
              "0     18340\n",
              "1      5386\n",
              "2      2362\n",
              "3       306\n",
              "4        47\n",
              "5        10\n",
              "14        3\n",
              "7         2\n",
              "19        1\n",
              "Name: child_num, dtype: int64"
            ]
          },
          "metadata": {},
          "execution_count": 15
        }
      ]
    },
    {
      "cell_type": "markdown",
      "source": [
        "자녀수가 7 이상으로 이상치로 보이는 고객 분석\n",
        "```\n",
        "1. 결혼여부\n",
        "```"
      ],
      "metadata": {
        "id": "Gz5hszCgvd4G"
      }
    },
    {
      "cell_type": "code",
      "source": [
        "print(df[df.child_num==7].family_type.value_counts())\n",
        "print(df[df.child_num==14].family_type.value_counts())\n",
        "print(df[df.child_num==19].family_type.value_counts())\n",
        "\n",
        "#자녀 수가 19인 사람은 결혼도 안한 사람인데 자녀수가 19명이므로 제거가 필요"
      ],
      "metadata": {
        "id": "e30cfJYpvfD2",
        "colab": {
          "base_uri": "https://localhost:8080/"
        },
        "outputId": "77ec3eb8-88dc-415e-ac4c-edfa1b9c6e90"
      },
      "execution_count": null,
      "outputs": [
        {
          "output_type": "stream",
          "name": "stdout",
          "text": [
            "Married    2\n",
            "Name: family_type, dtype: int64\n",
            "Separated    3\n",
            "Name: family_type, dtype: int64\n",
            "Single / not married    1\n",
            "Name: family_type, dtype: int64\n"
          ]
        }
      ]
    },
    {
      "cell_type": "markdown",
      "source": [
        "```\n",
        "2. 가족 규모\n",
        "```"
      ],
      "metadata": {
        "id": "3ePCHpcOvg4F"
      }
    },
    {
      "cell_type": "code",
      "source": [
        "print(df[df.child_num==7].family_size.value_counts())\n",
        "print(df[df.child_num==14].family_size.value_counts())\n",
        "print(df[df.child_num==19].family_size.value_counts())\n",
        "\n",
        "#가족 규모에 대해서는 모두 자녀수 value값이 더 작았음"
      ],
      "metadata": {
        "id": "nH-kFQ7-viWQ",
        "colab": {
          "base_uri": "https://localhost:8080/"
        },
        "outputId": "98dff91c-6492-428c-ece3-9b78d4a7e8ff"
      },
      "execution_count": null,
      "outputs": [
        {
          "output_type": "stream",
          "name": "stdout",
          "text": [
            "9.0    2\n",
            "Name: family_size, dtype: int64\n",
            "15.0    3\n",
            "Name: family_size, dtype: int64\n",
            "20.0    1\n",
            "Name: family_size, dtype: int64\n"
          ]
        }
      ]
    },
    {
      "cell_type": "code",
      "source": [
        "(df.child_num > df.family_size).sum()\n",
        "df[(df.child_num > df.family_size)]\n",
        "\n",
        "#딱 한 경우 존재했는데, 한부모가정일수도 있으니 삭제하지 않음"
      ],
      "metadata": {
        "id": "Acd4TaTWvjog",
        "colab": {
          "base_uri": "https://localhost:8080/",
          "height": 226
        },
        "outputId": "6d1b0316-b8c7-4a07-fdbb-f33e5ab0a9f3"
      },
      "execution_count": null,
      "outputs": [
        {
          "output_type": "execute_result",
          "data": {
            "text/plain": [
              "       index gender car reality  child_num  income_total income_type  \\\n",
              "14900  14900      M   Y       N          2      225000.0     Working   \n",
              "\n",
              "                            edu_type family_type         house_type  ...  \\\n",
              "14900  Secondary / secondary special     Married  House / apartment  ...   \n",
              "\n",
              "       DAYS_EMPLOYED  FLAG_MOBIL  work_phone  phone  email  occyp_type  \\\n",
              "14900          -2212           1           0      0      0     Drivers   \n",
              "\n",
              "      family_size  begin_month  credit  car_reality  \n",
              "14900         1.0        -30.0     2.0           YN  \n",
              "\n",
              "[1 rows x 21 columns]"
            ],
            "text/html": [
              "\n",
              "  <div id=\"df-6a9f43a0-6658-4f3a-8187-9ca3e7c7134c\">\n",
              "    <div class=\"colab-df-container\">\n",
              "      <div>\n",
              "<style scoped>\n",
              "    .dataframe tbody tr th:only-of-type {\n",
              "        vertical-align: middle;\n",
              "    }\n",
              "\n",
              "    .dataframe tbody tr th {\n",
              "        vertical-align: top;\n",
              "    }\n",
              "\n",
              "    .dataframe thead th {\n",
              "        text-align: right;\n",
              "    }\n",
              "</style>\n",
              "<table border=\"1\" class=\"dataframe\">\n",
              "  <thead>\n",
              "    <tr style=\"text-align: right;\">\n",
              "      <th></th>\n",
              "      <th>index</th>\n",
              "      <th>gender</th>\n",
              "      <th>car</th>\n",
              "      <th>reality</th>\n",
              "      <th>child_num</th>\n",
              "      <th>income_total</th>\n",
              "      <th>income_type</th>\n",
              "      <th>edu_type</th>\n",
              "      <th>family_type</th>\n",
              "      <th>house_type</th>\n",
              "      <th>...</th>\n",
              "      <th>DAYS_EMPLOYED</th>\n",
              "      <th>FLAG_MOBIL</th>\n",
              "      <th>work_phone</th>\n",
              "      <th>phone</th>\n",
              "      <th>email</th>\n",
              "      <th>occyp_type</th>\n",
              "      <th>family_size</th>\n",
              "      <th>begin_month</th>\n",
              "      <th>credit</th>\n",
              "      <th>car_reality</th>\n",
              "    </tr>\n",
              "  </thead>\n",
              "  <tbody>\n",
              "    <tr>\n",
              "      <th>14900</th>\n",
              "      <td>14900</td>\n",
              "      <td>M</td>\n",
              "      <td>Y</td>\n",
              "      <td>N</td>\n",
              "      <td>2</td>\n",
              "      <td>225000.0</td>\n",
              "      <td>Working</td>\n",
              "      <td>Secondary / secondary special</td>\n",
              "      <td>Married</td>\n",
              "      <td>House / apartment</td>\n",
              "      <td>...</td>\n",
              "      <td>-2212</td>\n",
              "      <td>1</td>\n",
              "      <td>0</td>\n",
              "      <td>0</td>\n",
              "      <td>0</td>\n",
              "      <td>Drivers</td>\n",
              "      <td>1.0</td>\n",
              "      <td>-30.0</td>\n",
              "      <td>2.0</td>\n",
              "      <td>YN</td>\n",
              "    </tr>\n",
              "  </tbody>\n",
              "</table>\n",
              "<p>1 rows × 21 columns</p>\n",
              "</div>\n",
              "      <button class=\"colab-df-convert\" onclick=\"convertToInteractive('df-6a9f43a0-6658-4f3a-8187-9ca3e7c7134c')\"\n",
              "              title=\"Convert this dataframe to an interactive table.\"\n",
              "              style=\"display:none;\">\n",
              "        \n",
              "  <svg xmlns=\"http://www.w3.org/2000/svg\" height=\"24px\"viewBox=\"0 0 24 24\"\n",
              "       width=\"24px\">\n",
              "    <path d=\"M0 0h24v24H0V0z\" fill=\"none\"/>\n",
              "    <path d=\"M18.56 5.44l.94 2.06.94-2.06 2.06-.94-2.06-.94-.94-2.06-.94 2.06-2.06.94zm-11 1L8.5 8.5l.94-2.06 2.06-.94-2.06-.94L8.5 2.5l-.94 2.06-2.06.94zm10 10l.94 2.06.94-2.06 2.06-.94-2.06-.94-.94-2.06-.94 2.06-2.06.94z\"/><path d=\"M17.41 7.96l-1.37-1.37c-.4-.4-.92-.59-1.43-.59-.52 0-1.04.2-1.43.59L10.3 9.45l-7.72 7.72c-.78.78-.78 2.05 0 2.83L4 21.41c.39.39.9.59 1.41.59.51 0 1.02-.2 1.41-.59l7.78-7.78 2.81-2.81c.8-.78.8-2.07 0-2.86zM5.41 20L4 18.59l7.72-7.72 1.47 1.35L5.41 20z\"/>\n",
              "  </svg>\n",
              "      </button>\n",
              "      \n",
              "  <style>\n",
              "    .colab-df-container {\n",
              "      display:flex;\n",
              "      flex-wrap:wrap;\n",
              "      gap: 12px;\n",
              "    }\n",
              "\n",
              "    .colab-df-convert {\n",
              "      background-color: #E8F0FE;\n",
              "      border: none;\n",
              "      border-radius: 50%;\n",
              "      cursor: pointer;\n",
              "      display: none;\n",
              "      fill: #1967D2;\n",
              "      height: 32px;\n",
              "      padding: 0 0 0 0;\n",
              "      width: 32px;\n",
              "    }\n",
              "\n",
              "    .colab-df-convert:hover {\n",
              "      background-color: #E2EBFA;\n",
              "      box-shadow: 0px 1px 2px rgba(60, 64, 67, 0.3), 0px 1px 3px 1px rgba(60, 64, 67, 0.15);\n",
              "      fill: #174EA6;\n",
              "    }\n",
              "\n",
              "    [theme=dark] .colab-df-convert {\n",
              "      background-color: #3B4455;\n",
              "      fill: #D2E3FC;\n",
              "    }\n",
              "\n",
              "    [theme=dark] .colab-df-convert:hover {\n",
              "      background-color: #434B5C;\n",
              "      box-shadow: 0px 1px 3px 1px rgba(0, 0, 0, 0.15);\n",
              "      filter: drop-shadow(0px 1px 2px rgba(0, 0, 0, 0.3));\n",
              "      fill: #FFFFFF;\n",
              "    }\n",
              "  </style>\n",
              "\n",
              "      <script>\n",
              "        const buttonEl =\n",
              "          document.querySelector('#df-6a9f43a0-6658-4f3a-8187-9ca3e7c7134c button.colab-df-convert');\n",
              "        buttonEl.style.display =\n",
              "          google.colab.kernel.accessAllowed ? 'block' : 'none';\n",
              "\n",
              "        async function convertToInteractive(key) {\n",
              "          const element = document.querySelector('#df-6a9f43a0-6658-4f3a-8187-9ca3e7c7134c');\n",
              "          const dataTable =\n",
              "            await google.colab.kernel.invokeFunction('convertToInteractive',\n",
              "                                                     [key], {});\n",
              "          if (!dataTable) return;\n",
              "\n",
              "          const docLinkHtml = 'Like what you see? Visit the ' +\n",
              "            '<a target=\"_blank\" href=https://colab.research.google.com/notebooks/data_table.ipynb>data table notebook</a>'\n",
              "            + ' to learn more about interactive tables.';\n",
              "          element.innerHTML = '';\n",
              "          dataTable['output_type'] = 'display_data';\n",
              "          await google.colab.output.renderOutput(dataTable, element);\n",
              "          const docLink = document.createElement('div');\n",
              "          docLink.innerHTML = docLinkHtml;\n",
              "          element.appendChild(docLink);\n",
              "        }\n",
              "      </script>\n",
              "    </div>\n",
              "  </div>\n",
              "  "
            ]
          },
          "metadata": {},
          "execution_count": 18
        }
      ]
    },
    {
      "cell_type": "markdown",
      "source": [
        "```\n",
        "3. 출생일\n",
        ": 양수로 변환 후, 365로 나누어서 대략적인 나이 추측 가능하도록 변환\n",
        ": 나이가 어린데 자녀수가 많이 존재하면 이상치라고 판단 > 그런 고객은 존재하지 않았음\n",
        "```"
      ],
      "metadata": {
        "id": "LwkXMwY2vlct"
      }
    },
    {
      "cell_type": "code",
      "source": [
        "df.DAYS_BIRTH = -df.DAYS_BIRTH"
      ],
      "metadata": {
        "id": "-Nsp9N9Wvm21"
      },
      "execution_count": null,
      "outputs": []
    },
    {
      "cell_type": "code",
      "source": [
        "df.DAYS_BIRTH = df.DAYS_BIRTH/365\n",
        "df.DAYS_BIRTH"
      ],
      "metadata": {
        "id": "IWdHdZ6Evnow",
        "colab": {
          "base_uri": "https://localhost:8080/"
        },
        "outputId": "1a71a5a0-f7a6-44a6-fe28-9f78a8428706"
      },
      "execution_count": null,
      "outputs": [
        {
          "output_type": "execute_result",
          "data": {
            "text/plain": [
              "0        38.079452\n",
              "1        31.178082\n",
              "2        52.293151\n",
              "3        41.336986\n",
              "4        41.197260\n",
              "           ...    \n",
              "26452    33.093151\n",
              "26453    41.893151\n",
              "26454    27.621918\n",
              "26455    27.794521\n",
              "26456    53.613699\n",
              "Name: DAYS_BIRTH, Length: 26457, dtype: float64"
            ]
          },
          "metadata": {},
          "execution_count": 20
        }
      ]
    },
    {
      "cell_type": "code",
      "source": [
        "#나이가 21살 아래이면서 자녀수가 존재하거나 많은 고객은 없었음\n",
        "df[df.DAYS_BIRTH<21].child_num.value_counts()"
      ],
      "metadata": {
        "id": "Oq-krD3tvo92",
        "colab": {
          "base_uri": "https://localhost:8080/"
        },
        "outputId": "3a056d95-2c20-4a48-ee1b-9c8e70d40e7d"
      },
      "execution_count": null,
      "outputs": [
        {
          "output_type": "execute_result",
          "data": {
            "text/plain": [
              "Series([], Name: child_num, dtype: int64)"
            ]
          },
          "metadata": {},
          "execution_count": 21
        }
      ]
    },
    {
      "cell_type": "markdown",
      "source": [
        "5. 연간 소득"
      ],
      "metadata": {
        "id": "n4vc9yLfvqRQ"
      }
    },
    {
      "cell_type": "code",
      "source": [
        "np.set_printoptions(precision=10)"
      ],
      "metadata": {
        "id": "ubRaIz8uvrf6"
      },
      "execution_count": null,
      "outputs": []
    },
    {
      "cell_type": "code",
      "source": [
        "sns.boxplot(x='credit', y='income_total', data=df)\n",
        "\n",
        "#일단 보기에, 신용도가 낮은 고객일수록 연간소득이 큰 사람이 많았음\n",
        "#그러나 신용도가 2인 고객이 애초에 많았고, 이상치의 영향 제거 > 중앙값으로 판단"
      ],
      "metadata": {
        "id": "NcEkhNzjvsVs",
        "colab": {
          "base_uri": "https://localhost:8080/",
          "height": 308
        },
        "outputId": "f056fbee-252c-4c00-d47d-52273ed238c3"
      },
      "execution_count": null,
      "outputs": [
        {
          "output_type": "execute_result",
          "data": {
            "text/plain": [
              "<matplotlib.axes._subplots.AxesSubplot at 0x7fdf3a73b710>"
            ]
          },
          "metadata": {},
          "execution_count": 23
        },
        {
          "output_type": "display_data",
          "data": {
            "text/plain": [
              "<Figure size 432x288 with 1 Axes>"
            ],
            "image/png": "[encoded data removed]"
          },
          "metadata": {
            "needs_background": "light"
          }
        }
      ]
    },
    {
      "cell_type": "code",
      "source": [
        "df['income_total'].groupby(df['credit']).describe()\n",
        "\n",
        "#실제로 신용도가 높은 사람들의 연간 소득이 높은 것을 확인할 수 있었음"
      ],
      "metadata": {
        "id": "EQqV5AnUvtjb",
        "colab": {
          "base_uri": "https://localhost:8080/",
          "height": 175
        },
        "outputId": "cde63083-d5a8-4b82-8acb-1345e4d0cfae"
      },
      "execution_count": null,
      "outputs": [
        {
          "output_type": "execute_result",
          "data": {
            "text/plain": [
              "          count           mean            std      min       25%       50%  \\\n",
              "credit                                                                       \n",
              "0.0      3222.0  190807.582402  102139.548208  29250.0  126000.0  162000.0   \n",
              "1.0      6267.0  181122.701532   92548.262258  27000.0  117000.0  157500.0   \n",
              "2.0     16968.0  188925.666991  104981.727565  27000.0  121500.0  157500.0   \n",
              "\n",
              "             75%        max  \n",
              "credit                       \n",
              "0.0     225000.0   945000.0  \n",
              "1.0     225000.0  1125000.0  \n",
              "2.0     225000.0  1575000.0  "
            ],
            "text/html": [
              "\n",
              "  <div id=\"df-d019d073-dfa5-4d61-bdef-0c08cb7dca68\">\n",
              "    <div class=\"colab-df-container\">\n",
              "      <div>\n",
              "<style scoped>\n",
              "    .dataframe tbody tr th:only-of-type {\n",
              "        vertical-align: middle;\n",
              "    }\n",
              "\n",
              "    .dataframe tbody tr th {\n",
              "        vertical-align: top;\n",
              "    }\n",
              "\n",
              "    .dataframe thead th {\n",
              "        text-align: right;\n",
              "    }\n",
              "</style>\n",
              "<table border=\"1\" class=\"dataframe\">\n",
              "  <thead>\n",
              "    <tr style=\"text-align: right;\">\n",
              "      <th></th>\n",
              "      <th>count</th>\n",
              "      <th>mean</th>\n",
              "      <th>std</th>\n",
              "      <th>min</th>\n",
              "      <th>25%</th>\n",
              "      <th>50%</th>\n",
              "      <th>75%</th>\n",
              "      <th>max</th>\n",
              "    </tr>\n",
              "    <tr>\n",
              "      <th>credit</th>\n",
              "      <th></th>\n",
              "      <th></th>\n",
              "      <th></th>\n",
              "      <th></th>\n",
              "      <th></th>\n",
              "      <th></th>\n",
              "      <th></th>\n",
              "      <th></th>\n",
              "    </tr>\n",
              "  </thead>\n",
              "  <tbody>\n",
              "    <tr>\n",
              "      <th>0.0</th>\n",
              "      <td>3222.0</td>\n",
              "      <td>190807.582402</td>\n",
              "      <td>102139.548208</td>\n",
              "      <td>29250.0</td>\n",
              "      <td>126000.0</td>\n",
              "      <td>162000.0</td>\n",
              "      <td>225000.0</td>\n",
              "      <td>945000.0</td>\n",
              "    </tr>\n",
              "    <tr>\n",
              "      <th>1.0</th>\n",
              "      <td>6267.0</td>\n",
              "      <td>181122.701532</td>\n",
              "      <td>92548.262258</td>\n",
              "      <td>27000.0</td>\n",
              "      <td>117000.0</td>\n",
              "      <td>157500.0</td>\n",
              "      <td>225000.0</td>\n",
              "      <td>1125000.0</td>\n",
              "    </tr>\n",
              "    <tr>\n",
              "      <th>2.0</th>\n",
              "      <td>16968.0</td>\n",
              "      <td>188925.666991</td>\n",
              "      <td>104981.727565</td>\n",
              "      <td>27000.0</td>\n",
              "      <td>121500.0</td>\n",
              "      <td>157500.0</td>\n",
              "      <td>225000.0</td>\n",
              "      <td>1575000.0</td>\n",
              "    </tr>\n",
              "  </tbody>\n",
              "</table>\n",
              "</div>\n",
              "      <button class=\"colab-df-convert\" onclick=\"convertToInteractive('df-d019d073-dfa5-4d61-bdef-0c08cb7dca68')\"\n",
              "              title=\"Convert this dataframe to an interactive table.\"\n",
              "              style=\"display:none;\">\n",
              "        \n",
              "  <svg xmlns=\"http://www.w3.org/2000/svg\" height=\"24px\"viewBox=\"0 0 24 24\"\n",
              "       width=\"24px\">\n",
              "    <path d=\"M0 0h24v24H0V0z\" fill=\"none\"/>\n",
              "    <path d=\"M18.56 5.44l.94 2.06.94-2.06 2.06-.94-2.06-.94-.94-2.06-.94 2.06-2.06.94zm-11 1L8.5 8.5l.94-2.06 2.06-.94-2.06-.94L8.5 2.5l-.94 2.06-2.06.94zm10 10l.94 2.06.94-2.06 2.06-.94-2.06-.94-.94-2.06-.94 2.06-2.06.94z\"/><path d=\"M17.41 7.96l-1.37-1.37c-.4-.4-.92-.59-1.43-.59-.52 0-1.04.2-1.43.59L10.3 9.45l-7.72 7.72c-.78.78-.78 2.05 0 2.83L4 21.41c.39.39.9.59 1.41.59.51 0 1.02-.2 1.41-.59l7.78-7.78 2.81-2.81c.8-.78.8-2.07 0-2.86zM5.41 20L4 18.59l7.72-7.72 1.47 1.35L5.41 20z\"/>\n",
              "  </svg>\n",
              "      </button>\n",
              "      \n",
              "  <style>\n",
              "    .colab-df-container {\n",
              "      display:flex;\n",
              "      flex-wrap:wrap;\n",
              "      gap: 12px;\n",
              "    }\n",
              "\n",
              "    .colab-df-convert {\n",
              "      background-color: #E8F0FE;\n",
              "      border: none;\n",
              "      border-radius: 50%;\n",
              "      cursor: pointer;\n",
              "      display: none;\n",
              "      fill: #1967D2;\n",
              "      height: 32px;\n",
              "      padding: 0 0 0 0;\n",
              "      width: 32px;\n",
              "    }\n",
              "\n",
              "    .colab-df-convert:hover {\n",
              "      background-color: #E2EBFA;\n",
              "      box-shadow: 0px 1px 2px rgba(60, 64, 67, 0.3), 0px 1px 3px 1px rgba(60, 64, 67, 0.15);\n",
              "      fill: #174EA6;\n",
              "    }\n",
              "\n",
              "    [theme=dark] .colab-df-convert {\n",
              "      background-color: #3B4455;\n",
              "      fill: #D2E3FC;\n",
              "    }\n",
              "\n",
              "    [theme=dark] .colab-df-convert:hover {\n",
              "      background-color: #434B5C;\n",
              "      box-shadow: 0px 1px 3px 1px rgba(0, 0, 0, 0.15);\n",
              "      filter: drop-shadow(0px 1px 2px rgba(0, 0, 0, 0.3));\n",
              "      fill: #FFFFFF;\n",
              "    }\n",
              "  </style>\n",
              "\n",
              "      <script>\n",
              "        const buttonEl =\n",
              "          document.querySelector('#df-d019d073-dfa5-4d61-bdef-0c08cb7dca68 button.colab-df-convert');\n",
              "        buttonEl.style.display =\n",
              "          google.colab.kernel.accessAllowed ? 'block' : 'none';\n",
              "\n",
              "        async function convertToInteractive(key) {\n",
              "          const element = document.querySelector('#df-d019d073-dfa5-4d61-bdef-0c08cb7dca68');\n",
              "          const dataTable =\n",
              "            await google.colab.kernel.invokeFunction('convertToInteractive',\n",
              "                                                     [key], {});\n",
              "          if (!dataTable) return;\n",
              "\n",
              "          const docLinkHtml = 'Like what you see? Visit the ' +\n",
              "            '<a target=\"_blank\" href=https://colab.research.google.com/notebooks/data_table.ipynb>data table notebook</a>'\n",
              "            + ' to learn more about interactive tables.';\n",
              "          element.innerHTML = '';\n",
              "          dataTable['output_type'] = 'display_data';\n",
              "          await google.colab.output.renderOutput(dataTable, element);\n",
              "          const docLink = document.createElement('div');\n",
              "          docLink.innerHTML = docLinkHtml;\n",
              "          element.appendChild(docLink);\n",
              "        }\n",
              "      </script>\n",
              "    </div>\n",
              "  </div>\n",
              "  "
            ]
          },
          "metadata": {},
          "execution_count": 24
        }
      ]
    },
    {
      "cell_type": "markdown",
      "source": [
        "6. 소득 분류"
      ],
      "metadata": {
        "id": "jKDL0VEMvumu"
      }
    },
    {
      "cell_type": "code",
      "source": [
        "df.income_type.value_counts()"
      ],
      "metadata": {
        "id": "zt58LDj2vvpq"
      },
      "execution_count": null,
      "outputs": []
    },
    {
      "cell_type": "code",
      "source": [
        "sns.boxplot(x='income_type', y='income_total', data=df)"
      ],
      "metadata": {
        "id": "dNpNitE3vw5E"
      },
      "execution_count": null,
      "outputs": []
    },
    {
      "cell_type": "code",
      "source": [
        "#학생인 사람의 결혼여부와 출생일 확인\n",
        "\n",
        "print(df[(df.income_type=='Student')].family_type.value_counts())\n",
        "print()\n",
        "print(df[df.income_type=='Student'].DAYS_BIRTH)\n",
        "\n",
        "# 2990/3602/8936/21681 와 11646/23119 중복데이터??"
      ],
      "metadata": {
        "id": "8729V4ruvyIW"
      },
      "execution_count": null,
      "outputs": []
    },
    {
      "cell_type": "markdown",
      "source": [
        "7. 교육 수준"
      ],
      "metadata": {
        "id": "iswqPQy6vzV-"
      }
    },
    {
      "cell_type": "code",
      "source": [
        "df.edu_type.value_counts()"
      ],
      "metadata": {
        "id": "uhenKLXHv0es"
      },
      "execution_count": null,
      "outputs": []
    },
    {
      "cell_type": "code",
      "source": [
        "pd.crosstab(df.credit, df.edu_type)\n",
        "\n",
        "#교육수준에 따라서 신용도의 분포가 유사하고, Academic degree에서는 샘플수가 작아서 조금의 오차를 보이는 것 같음"
      ],
      "metadata": {
        "id": "SWJxXLEmv1g3"
      },
      "execution_count": null,
      "outputs": []
    },
    {
      "cell_type": "markdown",
      "source": [
        "8. 결혼 여부"
      ],
      "metadata": {
        "id": "CcMtfBpVv3Hw"
      }
    },
    {
      "cell_type": "code",
      "source": [
        "df.family_type.value_counts()"
      ],
      "metadata": {
        "id": "VvBnb8zQv39h"
      },
      "execution_count": null,
      "outputs": []
    },
    {
      "cell_type": "code",
      "source": [
        "pd.crosstab(df.credit, df.family_type)"
      ],
      "metadata": {
        "id": "d1pL3Hg9v48K"
      },
      "execution_count": null,
      "outputs": []
    },
    {
      "cell_type": "markdown",
      "source": [
        "9. 출생일"
      ],
      "metadata": {
        "id": "L7rXv4V_v6NS"
      }
    },
    {
      "cell_type": "code",
      "source": [
        "df.DAYS_BIRTH = df.DAYS_BIRTH*365"
      ],
      "metadata": {
        "id": "zTS_3pJcv7ML"
      },
      "execution_count": null,
      "outputs": []
    },
    {
      "cell_type": "code",
      "source": [
        "df.DAYS_BIRTH.describe()"
      ],
      "metadata": {
        "id": "pR9sIx6uv77C"
      },
      "execution_count": null,
      "outputs": []
    },
    {
      "cell_type": "markdown",
      "source": [
        "10. 업무 시작일"
      ],
      "metadata": {
        "id": "BG7WGmQOv9Cs"
      }
    },
    {
      "cell_type": "code",
      "source": [
        "df['DAYS_EMPLOYED'] = np.where(df['DAYS_EMPLOYED']>0, 0, -df['DAYS_EMPLOYED'])\n",
        "df.DAYS_EMPLOYED.describe()"
      ],
      "metadata": {
        "id": "jaic1aQLv98a",
        "colab": {
          "base_uri": "https://localhost:8080/"
        },
        "outputId": "0a3c0498-3a2c-4986-beb2-8cacf8e9243d"
      },
      "execution_count": null,
      "outputs": [
        {
          "output_type": "execute_result",
          "data": {
            "text/plain": [
              "count    26457.000000\n",
              "mean      2198.529538\n",
              "std       2370.140530\n",
              "min          0.000000\n",
              "25%        407.000000\n",
              "50%       1539.000000\n",
              "75%       3153.000000\n",
              "max      15713.000000\n",
              "Name: DAYS_EMPLOYED, dtype: float64"
            ]
          },
          "metadata": {},
          "execution_count": 25
        }
      ]
    },
    {
      "cell_type": "code",
      "source": [
        "df['DAYS_BIRTH'] = np.where(df['DAYS_BIRTH']>0, 0, -df['DAYS_BIRTH'])"
      ],
      "metadata": {
        "id": "k3s2wtEDv_Db"
      },
      "execution_count": null,
      "outputs": []
    },
    {
      "cell_type": "code",
      "source": [
        "print(sum((df.DAYS_BIRTH)<(df.DAYS_EMPLOYED)), '으로 근무일수가 태어난 날보다 많은 이상치는 없었음')"
      ],
      "metadata": {
        "id": "w3f4CS_bwAEM",
        "colab": {
          "base_uri": "https://localhost:8080/"
        },
        "outputId": "5f993b09-751b-43ca-d46f-72871adc23e9"
      },
      "execution_count": null,
      "outputs": [
        {
          "output_type": "stream",
          "name": "stdout",
          "text": [
            "22019 으로 근무일수가 태어난 날보다 많은 이상치는 없었음\n"
          ]
        }
      ]
    },
    {
      "cell_type": "code",
      "source": [
        "boolean = [True, True]\n",
        "print(sum(boolean))"
      ],
      "metadata": {
        "colab": {
          "base_uri": "https://localhost:8080/"
        },
        "id": "QffsgNadAzmW",
        "outputId": "739e0a86-9f00-4603-d4b2-e21c15429c46"
      },
      "execution_count": null,
      "outputs": [
        {
          "output_type": "stream",
          "name": "stdout",
          "text": [
            "2\n"
          ]
        }
      ]
    },
    {
      "cell_type": "markdown",
      "source": [
        "11. 핸드폰 소유 여부\n",
        "```\n",
        ": 모두 1의 value를 가지므로 컬럼 삭제\n",
        "```"
      ],
      "metadata": {
        "id": "0MNhdAWfwB2L"
      }
    },
    {
      "cell_type": "markdown",
      "source": [
        "12. 업무용 전화 소유 여부"
      ],
      "metadata": {
        "id": "CEi6yJLmwDc5"
      }
    },
    {
      "cell_type": "markdown",
      "source": [
        "13. 전화 소유 여부"
      ],
      "metadata": {
        "id": "syx0d6fpwExT"
      }
    },
    {
      "cell_type": "markdown",
      "source": [
        "14. 이메일 소유 여부"
      ],
      "metadata": {
        "id": "VN8Z8N3IwGIe"
      }
    },
    {
      "cell_type": "markdown",
      "source": [
        "15. 직업 유형"
      ],
      "metadata": {
        "id": "l0xpHixLwHSv"
      }
    },
    {
      "cell_type": "code",
      "source": [
        "#너무 많은 수준이 존재하므로, 상위 클래스로 묶어주는 작업 필요\n",
        "#직업 자체가 없어서 결측치인 사람, 입력 오류로 결측치인 사람의 구분 필요\n",
        "#근무일수가 없는 직업유형은 어떤 범주로 전처리 ?\n",
        "df.occyp_type.value_counts()"
      ],
      "metadata": {
        "id": "L46U06H6wJUm"
      },
      "execution_count": null,
      "outputs": []
    },
    {
      "cell_type": "code",
      "source": [
        "df.occyp_type.isnull().sum()"
      ],
      "metadata": {
        "id": "1FM48jfawLPc"
      },
      "execution_count": null,
      "outputs": []
    },
    {
      "cell_type": "code",
      "source": [
        "df[(df.occyp_type.isnull())&(df.DAYS_EMPLOYED==0)]"
      ],
      "metadata": {
        "id": "XPh5OK_QwL_n"
      },
      "execution_count": null,
      "outputs": []
    },
    {
      "cell_type": "markdown",
      "source": [
        "# ② 데이터 시각화로 분석"
      ],
      "metadata": {
        "id": "Gi3pMWP9B0wt"
      }
    },
    {
      "cell_type": "code",
      "source": [
        "# 연속형 데이터 시각화\n",
        "\n",
        "# 분석 내용 1. 신용등급이 가장 낮은 그룹이 총 수입이 높게 분포 \n",
        "# -> 샘플의 갯수를 세어보니 약 13000개 정도 많음 \n",
        "# -> 가장 적은 등급의 샘플 갯수를 기준으로 랜덤 샘플링 \n",
        "# -> 이상하다고 생각할 정도는 아닌 결과 \n",
        "\n",
        "plt.figure(figsize = (8, 10))\n",
        "plt.subplot(211)\n",
        "plt.scatter(df_Train['credit'], df_Train['income_total'])\n",
        "\n",
        "plt.subplot(212)\n",
        "plt.scatter(df_Train['credit'], df_Train['DAYS_BIRTH'])\n",
        "plt.show()"
      ],
      "metadata": {
        "id": "YVETVol6y-84",
        "colab": {
          "base_uri": "https://localhost:8080/",
          "height": 530
        },
        "outputId": "40b2a10a-62f4-48f2-ea02-35052cbf2830"
      },
      "execution_count": null,
      "outputs": [
        {
          "output_type": "error",
          "ename": "NameError",
          "evalue": "ignored",
          "traceback": [
            "\u001b[0;31m---------------------------------------------------------------------------\u001b[0m",
            "\u001b[0;31mNameError\u001b[0m                                 Traceback (most recent call last)",
            "\u001b[0;32m<ipython-input-29-549c5de07cb8>\u001b[0m in \u001b[0;36m<module>\u001b[0;34m()\u001b[0m\n\u001b[1;32m      8\u001b[0m \u001b[0mplt\u001b[0m\u001b[0;34m.\u001b[0m\u001b[0mfigure\u001b[0m\u001b[0;34m(\u001b[0m\u001b[0mfigsize\u001b[0m \u001b[0;34m=\u001b[0m \u001b[0;34m(\u001b[0m\u001b[0;36m8\u001b[0m\u001b[0;34m,\u001b[0m \u001b[0;36m10\u001b[0m\u001b[0;34m)\u001b[0m\u001b[0;34m)\u001b[0m\u001b[0;34m\u001b[0m\u001b[0;34m\u001b[0m\u001b[0m\n\u001b[1;32m      9\u001b[0m \u001b[0mplt\u001b[0m\u001b[0;34m.\u001b[0m\u001b[0msubplot\u001b[0m\u001b[0;34m(\u001b[0m\u001b[0;36m211\u001b[0m\u001b[0;34m)\u001b[0m\u001b[0;34m\u001b[0m\u001b[0;34m\u001b[0m\u001b[0m\n\u001b[0;32m---> 10\u001b[0;31m \u001b[0mplt\u001b[0m\u001b[0;34m.\u001b[0m\u001b[0mscatter\u001b[0m\u001b[0;34m(\u001b[0m\u001b[0mdf_Train\u001b[0m\u001b[0;34m[\u001b[0m\u001b[0;34m'credit'\u001b[0m\u001b[0;34m]\u001b[0m\u001b[0;34m,\u001b[0m \u001b[0mdf_Train\u001b[0m\u001b[0;34m[\u001b[0m\u001b[0;34m'income_total'\u001b[0m\u001b[0;34m]\u001b[0m\u001b[0;34m)\u001b[0m\u001b[0;34m\u001b[0m\u001b[0;34m\u001b[0m\u001b[0m\n\u001b[0m\u001b[1;32m     11\u001b[0m \u001b[0;34m\u001b[0m\u001b[0m\n\u001b[1;32m     12\u001b[0m \u001b[0mplt\u001b[0m\u001b[0;34m.\u001b[0m\u001b[0msubplot\u001b[0m\u001b[0;34m(\u001b[0m\u001b[0;36m212\u001b[0m\u001b[0;34m)\u001b[0m\u001b[0;34m\u001b[0m\u001b[0;34m\u001b[0m\u001b[0m\n",
            "\u001b[0;31mNameError\u001b[0m: name 'df_Train' is not defined"
          ]
        },
        {
          "output_type": "display_data",
          "data": {
            "text/plain": [
              "<Figure size 576x720 with 1 Axes>"
            ],
            "image/png": "[encoded data removed]"
          },
          "metadata": {
            "needs_background": "light"
          }
        }
      ]
    },
    {
      "cell_type": "code",
      "source": [
        "# ②데이터 시각화로 분석\n",
        "\n",
        "# 연속형 데이터\n",
        "\n",
        "# 분석 내용 1. 신용등급이 가장 낮은 그룹이 총 수입이 높게 분포 \n",
        "# -> 샘플의 갯수를 세어보니 약 13000개 정도 많음 \n",
        "# -> 가장 적은 등급의 샘플 갯수를 기준으로 랜덤 샘플링 \n",
        "# -> 이상하다고 생각할 정도는 아닌 결과 \n",
        "\n",
        "plt.figure(figsize = (8, 10))\n",
        "plt.subplot(211)\n",
        "plt.scatter(df_Train['credit'], df_Train['income_total'])\n",
        "\n",
        "plt.subplot(212)\n",
        "plt.scatter(df_Train['credit'], df_Train['DAYS_BIRTH'])\n",
        "plt.show()"
      ],
      "metadata": {
        "id": "LY4L1R4FzOcr"
      },
      "execution_count": null,
      "outputs": []
    },
    {
      "cell_type": "code",
      "source": [
        "# 14000명의 차이\n",
        "df_Train.groupby('credit').count()[['car']]"
      ],
      "metadata": {
        "id": "iXtcVYtlzuCp"
      },
      "execution_count": null,
      "outputs": []
    },
    {
      "cell_type": "markdown",
      "source": [
        "```\n",
        "불편향 데이터 일반화 작업\n",
        "```"
      ],
      "metadata": {
        "id": "7t8i_Zc9zzbp"
      }
    },
    {
      "cell_type": "code",
      "source": [
        "# 신용등급 0, 1, 2별 3000명씩만 뽑기\n",
        "df_0 = df_Train[ df_Train['credit'] == 0 ]\n",
        "df_1 = df_Train[ df_Train['credit'] == 1 ]\n",
        "df_2 = df_Train[ df_Train['credit'] == 2 ]\n",
        "\n",
        "df_0 = df_0.reset_index()\n",
        "df_1 = df_1.reset_index()\n",
        "df_2 = df_2.reset_index()\n",
        "\n",
        "rand0 = np.random.choice(df_0.shape[0], 3000)\n",
        "rand1 = np.random.choice(df_1.shape[0], 3000)\n",
        "rand2 = np.random.choice(df_2.shape[0], 3000)\n",
        "\n",
        "\n",
        "# Exp 데이터 프레임 = credit 별로 3000명 맞춘 데이터\n",
        "df_Train_Exp = pd.concat([df_0.loc[rand0], df_1.loc[rand1], df_2.loc[rand2]], ignore_index = True)"
      ],
      "metadata": {
        "id": "rvmXVkRj0YHF"
      },
      "execution_count": null,
      "outputs": []
    },
    {
      "cell_type": "code",
      "source": [
        "df_Train_Exp"
      ],
      "metadata": {
        "id": "cJNIItO90ibE"
      },
      "execution_count": null,
      "outputs": []
    },
    {
      "cell_type": "markdown",
      "source": [
        "```\n",
        "3000명으로 기준을 잡으니 신용도가 제일 낮은 그룹에서 수입이 제일 높은 상황 사라짐\n",
        "```"
      ],
      "metadata": {
        "id": "Qv6HRjrL0nAZ"
      }
    },
    {
      "cell_type": "code",
      "source": [
        "plt.figure(figsize = (8, 10))\n",
        "plt.scatter(df_Train_Exp['credit'], df_Train_Exp['income_total'])\n",
        "plt.show()"
      ],
      "metadata": {
        "id": "YRZAWRGc0ktV"
      },
      "execution_count": null,
      "outputs": []
    },
    {
      "cell_type": "code",
      "source": [
        "df_Train.groupby('credit').count()[['DAYS_BIRTH']]"
      ],
      "metadata": {
        "id": "1znqxeLh020L"
      },
      "execution_count": null,
      "outputs": []
    },
    {
      "cell_type": "code",
      "source": [
        "# 데이터가 너무커서 catplot이 되지않아 스플릿 데이터 500개 추출\n",
        "rand = np.random.choice(df_Train.shape[0], 500)\n",
        "\n",
        "# 1. 전반적으로 나이가 어림\n",
        "# 2. 나이가 많을수록 업무일 수도 많음\n",
        "sns.catplot(x = 'DAYS_EMPLOYED', y = 'DAYS_BIRTH', data = df_Train.loc[rand], col = 'credit', col_wrap=3)\n",
        "plt.show()"
      ],
      "metadata": {
        "id": "4IavZail04dJ"
      },
      "execution_count": null,
      "outputs": []
    },
    {
      "cell_type": "code",
      "source": [
        "# 범주형 데이터 \n",
        "\n",
        "#barplot : 평균 그래프\n",
        "sns.barplot(x = 'car', y = 'credit', data=df_Train_Exp, color = \"yellow\")\n",
        "plt.show()\n",
        "\n",
        "# 수량을 맞추니 1.0가 나오는 모습 -> 수량을 맞추지 않으면 2등급이 너무 많아서 1.5가 평균으로 나옵니다.\n",
        "df_Train_Exp.groupby('car').mean()[['credit']]"
      ],
      "metadata": {
        "id": "1Z8jF_JL1CXk"
      },
      "execution_count": null,
      "outputs": []
    },
    {
      "cell_type": "markdown",
      "source": [
        "```\n",
        "막대그래프와 히스토그램은 평균을 보여줌\n",
        "따라서 신용도 2가 가장 많은 데이터에서 1이 아닌 1.5의 편향성을 보였음\n",
        "```"
      ],
      "metadata": {
        "id": "UpwLBelG1W3A"
      }
    },
    {
      "cell_type": "code",
      "source": [
        "# kt식 pivot으로 그래프 그리는 방식\n",
        "\n",
        "# Exp2 = edu_type을 인덱스로 한 데이터 프레임\n",
        "df_Train_Exp2 = df_Train.pivot_table(index = ['edu_type'])\n",
        "df_Train_Exp2['credit'].plot(kind = \"bar\", color = \"pink\")\n",
        "plt.show()"
      ],
      "metadata": {
        "id": "RkXqD--g1tGm"
      },
      "execution_count": null,
      "outputs": []
    },
    {
      "cell_type": "code",
      "source": [
        "# 3 = child_num을 인덱스로한 데이터 프레임\n",
        "df_Train_Exp3 = df_Train.pivot_table(index = ['child_num'])\n",
        "df_Train_Exp3['credit'].plot(kind = \"bar\", color = \"yellow\")\n",
        "plt.show()"
      ],
      "metadata": {
        "id": "t3rSI2y_12eY"
      },
      "execution_count": null,
      "outputs": []
    },
    {
      "cell_type": "code",
      "source": [
        "#하나의 특성에 대한 범주 값들의 분포를 그래프로 출력\n",
        "\n",
        "ot = train.groupby('occyp_type').count()['index']\n",
        "plot = ot.plot(kind='bar',figsize=(20,10))\n",
        "plot.set_xlabel('job_type',fontsize=11)\n",
        "plot.set_ylabel('number',fontsize=11)\n",
        "plot.set_title('job_type by number',fontsize=13)\n",
        "plot.set_xticklabels(labels=ot.index,rotation=45)"
      ],
      "metadata": {
        "id": "FTKQbr-H3aMg"
      },
      "execution_count": null,
      "outputs": []
    },
    {
      "cell_type": "markdown",
      "source": [
        "```\n",
        "여기서부터 목적을 정하기 위한 가설 시작\n",
        "```"
      ],
      "metadata": {
        "id": "8uggQ6d119uc"
      }
    },
    {
      "cell_type": "code",
      "source": [
        "sns.heatmap(df_Train.corr(), linewidths = 6, cmap=\"RdBu\", annot = True) \n",
        "plt.show()"
      ],
      "metadata": {
        "id": "wURnXKEB172O"
      },
      "execution_count": null,
      "outputs": []
    },
    {
      "cell_type": "code",
      "source": [
        "# 가설 1 -> 부동산 소유시 신용도가 낮은 비욜이 증가하나? \n",
        "df_Train['reality'].value_counts()"
      ],
      "metadata": {
        "id": "o-IcCPP_2atY"
      },
      "execution_count": null,
      "outputs": []
    },
    {
      "cell_type": "code",
      "source": [
        "df_Reality_Y = df_Train[df_Train['reality'] == 'Y']\n",
        "df_Reality_N = df_Train[df_Train['reality'] == 'N']"
      ],
      "metadata": {
        "id": "OU1G_KWc2cFz"
      },
      "execution_count": null,
      "outputs": []
    },
    {
      "cell_type": "markdown",
      "source": [
        "```\n",
        "항상 (편향데이터 외에도) 여러가지 조건으로 시각화를 해봐야한다.\n",
        "```"
      ],
      "metadata": {
        "id": "yL8ycFOa2gCF"
      }
    },
    {
      "cell_type": "code",
      "source": [
        "sns.countplot('credit', palette = 'spring', data = df_Reality_Y)\n",
        "plt.show()\n",
        "\n",
        "sns.countplot('credit', palette = 'spring', data = df_Reality_N)\n",
        "plt.show()"
      ],
      "metadata": {
        "id": "6BnWOe9f2c6x"
      },
      "execution_count": null,
      "outputs": []
    },
    {
      "cell_type": "code",
      "source": [
        "# 가설 2 -> 자녀 수, 결혼 여부에 따른 신용도\n",
        "df_Train['child_num'].value_counts()"
      ],
      "metadata": {
        "id": "ookd3hnn20Pv"
      },
      "execution_count": null,
      "outputs": []
    },
    {
      "cell_type": "code",
      "source": [
        "# 내 로컬 코드 참조\n",
        "'''\n",
        "print(df_Train['credit'].value_counts(),'\\n\\n\\n\\n',df_Child0_M['credit'].value_counts(),\\\n",
        "      '\\n\\n\\n\\n',df_Child1_M['credit'].value_counts(),'\\n\\n\\n\\n', df_Child2_M['credit'].value_counts())\n",
        "      # '\\n\\n\\n\\n',df_Child3_M['credit'].value_counts(),'\\n\\n\\n\\n', df_Child4_M['credit'].value_counts(),\\\n",
        "      # '\\n\\n\\n\\n',df_Child5_M['credit'].value_counts())\n",
        "\n",
        "print('\\n\\n\\n\\n',df_Child0_S['credit'].value_counts(),\\\n",
        "      '\\n\\n\\n\\n',df_Child1_S['credit'].value_counts(),'\\n\\n\\n\\n', df_Child2_S['credit'].value_counts())\n",
        "      # '\\n\\n\\n\\n',df_Child3_S['credit'].value_counts(),'\\n\\n\\n\\n', df_Child4_S['credit'].value_counts(),\\\n",
        "      # '\\n\\n\\n\\n',df_Child5_S['credit'].value_counts())\n",
        "      '''"
      ],
      "metadata": {
        "id": "vVVPdxLX3B2H"
      },
      "execution_count": null,
      "outputs": []
    },
    {
      "cell_type": "markdown",
      "source": [
        "```\n",
        "2.0    16968\n",
        "1.0     6267\n",
        "0.0     3222\n",
        "Name: credit, dtype: int64 \n",
        "\n",
        "\n",
        "\n",
        " 2.0    1230\n",
        "1.0     450\n",
        "0.0     236\n",
        "Name: credit, dtype: int64 \n",
        "\n",
        "\n",
        "\n",
        " 2.0    1418\n",
        "1.0     477\n",
        "0.0     295\n",
        "Name: credit, dtype: int64 \n",
        "\n",
        "\n",
        "\n",
        " 2.0    1780\n",
        "1.0     588\n",
        "0.0     291\n",
        "Name: credit, dtype: int64\n",
        "\n",
        "\n",
        "\n",
        "\n",
        " 2.0    322\n",
        "1.0    144\n",
        "0.0     50\n",
        "Name: credit, dtype: int64 \n",
        "\n",
        "\n",
        "\n",
        " 2.0    144\n",
        "1.0     83\n",
        "0.0     22\n",
        "Name: credit, dtype: int64 \n",
        "\n",
        "\n",
        "\n",
        " 2.0    62\n",
        "1.0    11\n",
        "0.0     7\n",
        "Name: credit, dtype: int64\n",
        "```"
      ],
      "metadata": {
        "id": "APQuQpU_28MO"
      }
    },
    {
      "cell_type": "code",
      "source": [
        "# ③데이터 전처리\n",
        "\n",
        "# 의미없는 값 제거\n",
        "df_Total['FLAG_MOBIL'].value_counts() "
      ],
      "metadata": {
        "id": "fspD8jke3KQA"
      },
      "execution_count": null,
      "outputs": []
    },
    {
      "cell_type": "code",
      "source": [
        "df_Total.isnull().sum()"
      ],
      "metadata": {
        "id": "VcNzKeQV3tpu"
      },
      "execution_count": null,
      "outputs": []
    },
    {
      "cell_type": "code",
      "source": [
        "df_Total = df_Total.fillna(method = \"bfill\")"
      ],
      "metadata": {
        "id": "zksfAkZC3sw_"
      },
      "execution_count": null,
      "outputs": []
    },
    {
      "cell_type": "code",
      "source": [
        "# 상관관계가 높은 특성의 이상치 탐지\n",
        "sns.boxplot(x = df_Total['DAYS_BIRTH'], y = df_Total['DAYS_EMPLOYED'], data = df_Total, palette = \"RdBu\")\n",
        "plt.show()"
      ],
      "metadata": {
        "id": "OZu8jhWg3v_3"
      },
      "execution_count": null,
      "outputs": []
    },
    {
      "cell_type": "code",
      "source": [
        "sns.boxplot(x = df_Total['family_size'], y = df_Total['child_num'], data = df_Total, palette = \"RdBu\")\n",
        "plt.show()"
      ],
      "metadata": {
        "id": "ayZrIpfW3xGP"
      },
      "execution_count": null,
      "outputs": []
    },
    {
      "cell_type": "code",
      "source": [
        "# 자식수 10명 이상 제거\n",
        "df_Total[ df_Total['child_num'] > 10 ]"
      ],
      "metadata": {
        "id": "nmN5pebq3yBC"
      },
      "execution_count": null,
      "outputs": []
    },
    {
      "cell_type": "code",
      "source": [
        "df_Total = df_Total[ df_Total['child_num'] <= 10 ]"
      ],
      "metadata": {
        "id": "eHvagYrP34h2"
      },
      "execution_count": null,
      "outputs": []
    },
    {
      "cell_type": "markdown",
      "source": [
        "→ 추가적인 이상치 분석에 대한 Question\n",
        "```\n",
        "1) 자녀수가 가족수보다 많거나 같은 경우인 6개의 샘플 → 삭제?\n",
        "2) 결혼여부가 싱글/미혼인데 자녀가 존재하는 509개의 샘플 → 삭제?\n",
        "```"
      ],
      "metadata": {
        "id": "0RkftGOf4k2S"
      }
    },
    {
      "cell_type": "code",
      "source": [
        "df[(df.family_type=='Single / not married')&(df.child_num>0)].child_num.value_counts()\n",
        "\n",
        "#싱글/미혼인데 자녀수가 6인 고객도 존재함"
      ],
      "metadata": {
        "id": "FuUTBfRu4m2d"
      },
      "execution_count": null,
      "outputs": []
    },
    {
      "cell_type": "markdown",
      "source": [
        "(1)  income_total(연간소득)\n",
        "```\n",
        ": 박스플롯을 살펴보면 이상치가 많이 존재하는 것을 확인했고, 극단적 이상치로 보이는 1,200,000 이상의 값을 1,200,000으로 변환\n",
        "```"
      ],
      "metadata": {
        "id": "Q-mkHCwS4o4U"
      }
    },
    {
      "cell_type": "code",
      "source": [
        "plt.boxplot(df.income_total)"
      ],
      "metadata": {
        "id": "_ziPxDan4qdD"
      },
      "execution_count": null,
      "outputs": []
    },
    {
      "cell_type": "code",
      "source": [
        "df.at[df.income_total>1200000,'income_total'] = 1200000"
      ],
      "metadata": {
        "id": "LXlFhr7p4rnV"
      },
      "execution_count": null,
      "outputs": []
    },
    {
      "cell_type": "markdown",
      "source": [
        "(2) family_size(가족 규모) ★★★ 매우 좋은 분석\n",
        "법\n",
        "```\n",
        ": 전체 관측치 중에서 8 이상의 값을 가지는 샘플은 0.06%의 이상치라고 판단, 모두 8로 치환\n",
        ": 이때 싱글/미혼인데 자녀가 존재하는 샘플 → 이상치로 생각됨 !\n",
        "```"
      ],
      "metadata": {
        "id": "vR-Q43qY4syk"
      }
    },
    {
      "cell_type": "code",
      "source": [
        "print(df.family_size.value_counts())\n",
        "\n",
        "(9+3+2+1)/26457*100"
      ],
      "metadata": {
        "id": "dZPr9vE74uF7"
      },
      "execution_count": null,
      "outputs": []
    },
    {
      "cell_type": "code",
      "source": [
        "plt.boxplot(df.family_size)"
      ],
      "metadata": {
        "id": "imyHAVQn4vWk"
      },
      "execution_count": null,
      "outputs": []
    },
    {
      "cell_type": "code",
      "source": [
        "df[df.family_size>8][['family_size','child_num','family_type','DAYS_BIRTH']]\n",
        "\n",
        "#실제로 가족규모가 8 초과인 샘플들의 가족규모, 자녀수, 결혼여부, 나이 등에서 모순점은 찾을 수 없었지만\n",
        "#너무 특이한 값을 가지므로, 이상치로 판단하여 최대의 가족수를 모두 8로 치환해준다."
      ],
      "metadata": {
        "id": "AoimEbqG4wit"
      },
      "execution_count": null,
      "outputs": []
    },
    {
      "cell_type": "code",
      "source": [
        "df[df.family_type=='Single / not married'].child_num.value_counts()\n",
        "\n",
        "#싱글/미혼인데 자녀가 존재한다? → 이상치로 생각됨\n",
        "\n",
        "df[df.index==10731][['family_size','child_num','family_type']]"
      ],
      "metadata": {
        "id": "N3hD5tRI5DPK"
      },
      "execution_count": null,
      "outputs": []
    },
    {
      "cell_type": "code",
      "source": [
        "df.at[df.family_size>8, 'family_size'] = 8"
      ],
      "metadata": {
        "id": "gbTdgHwP5EoS"
      },
      "execution_count": null,
      "outputs": []
    },
    {
      "cell_type": "markdown",
      "source": [
        "(3) begin month(신용카드 발급 월)\n",
        "```\n",
        ": 이상치는 따로 없었고, 식별하기 쉽도록 부호만 변경해주었음\n",
        ": 이후 태어난 월 수보다 신용카드 발급 월 수가 많으면 이상치인 점을 탐색해보기\n",
        "```"
      ],
      "metadata": {
        "id": "-r7GybC_5GML"
      }
    },
    {
      "cell_type": "code",
      "source": [
        "df.begin_month = (-1)*df.begin_month"
      ],
      "metadata": {
        "id": "Nap5fWYM5Hhb"
      },
      "execution_count": null,
      "outputs": []
    },
    {
      "cell_type": "code",
      "source": [
        "plt.boxplot(df.begin_month)\n",
        "\n",
        "#이상치는 따로 없어보이고, 식별하기 쉽도록 부호만 변경해주었음"
      ],
      "metadata": {
        "id": "B-2_RZcS5IX6"
      },
      "execution_count": null,
      "outputs": []
    },
    {
      "cell_type": "markdown",
      "source": [
        "(4) DAYS_BIRTH(출생일)\n",
        "```\n",
        ": 부호 변경과 함께, 나이로 직관적인 판단을 위해서 년 단위로 치환\n",
        "```"
      ],
      "metadata": {
        "id": "gigBn8qt5KA6"
      }
    },
    {
      "cell_type": "code",
      "source": [
        "df.DAYS_BIRTH = (-1)*df.DAYS_BIRTH /365   "
      ],
      "metadata": {
        "id": "CEUth8V85MZx"
      },
      "execution_count": null,
      "outputs": []
    },
    {
      "cell_type": "code",
      "source": [
        "#신용카드 발급 월 수와 태어난 월 수 \n",
        "df[(df.DAYS_BIRTH*30 < df.begin_month)].shape\n",
        "\n",
        "#예상했던 모순적인 샘플은 존재하지 않았음"
      ],
      "metadata": {
        "id": "Gzlq90mY5QGk"
      },
      "execution_count": null,
      "outputs": []
    },
    {
      "cell_type": "code",
      "source": [
        "#출생일과 업무 시작일\n",
        "df[(df.DAYS_BIRTH*365<=((-1)*df.DAYS_EMPLOYED))].shape\n",
        "\n",
        "#예상했던 모순적인 샘플은 존재하지 않았음"
      ],
      "metadata": {
        "id": "ILGZraD75Q96"
      },
      "execution_count": null,
      "outputs": []
    },
    {
      "cell_type": "markdown",
      "source": [
        "(5) DAYS_EMPLOYED(업무 시작일)\n",
        "```\n",
        ": 기존 value값에서는 0이 최대여야하지만 양수가 존재, 양수를 0으로 치환\n",
        ": 부호값을 변경하고, 직관적인 비교를 위해 월 단위로 치환\n",
        "```"
      ],
      "metadata": {
        "id": "CAECk98G5SFv"
      }
    },
    {
      "cell_type": "code",
      "source": [
        "df.DAYS_EMPLOYED.value_counts()"
      ],
      "metadata": {
        "id": "nbHQgGtB5TP4"
      },
      "execution_count": null,
      "outputs": []
    },
    {
      "cell_type": "code",
      "source": [
        "df.at[df.DAYS_EMPLOYED>0,'DAYS_EMPLOYED'] = 0\n",
        "df.DAYS_EMPLOYED = (-1)*df.DAYS_EMPLOYED/30"
      ],
      "metadata": {
        "id": "Da5y4XHo5URU"
      },
      "execution_count": null,
      "outputs": []
    },
    {
      "cell_type": "code",
      "source": [
        "df.DAYS_EMPLOYED.value_counts()"
      ],
      "metadata": {
        "id": "RaL9Y4495U9j"
      },
      "execution_count": null,
      "outputs": []
    },
    {
      "cell_type": "markdown",
      "source": [
        "(6) child_num(자녀수)"
      ],
      "metadata": {
        "id": "eeZwMchg5WOB"
      }
    },
    {
      "cell_type": "code",
      "source": [
        "df.child_num.value_counts()"
      ],
      "metadata": {
        "id": "nnsB-INP5XX-"
      },
      "execution_count": null,
      "outputs": []
    },
    {
      "cell_type": "code",
      "source": [
        "plt.boxplot(df.child_num)\n",
        "\n",
        "#결국 자녀수가 7 이상인 샘플은 이상치로 판단되고, 6으로 치환해준다. "
      ],
      "metadata": {
        "id": "PZS62jJ75YdE"
      },
      "execution_count": null,
      "outputs": []
    },
    {
      "cell_type": "code",
      "source": [
        "df.at[df.child_num>=6, 'child_num'] = 6"
      ],
      "metadata": {
        "id": "v8gtmjL15ZsY"
      },
      "execution_count": null,
      "outputs": []
    },
    {
      "cell_type": "markdown",
      "source": [
        "(+) 추가적인 이상치 분석\n",
        "```\n",
        ": 자녀수가 가족수보다 많거나 같은 경우인 6개의 샘플 → 삭제?\n",
        "```"
      ],
      "metadata": {
        "id": "ZKN4rqks5bCM"
      }
    },
    {
      "cell_type": "code",
      "source": [
        "df[(df.child_num>=df.family_size)][['child_num','family_size','family_type']]"
      ],
      "metadata": {
        "id": "sDmLevSd5cRL"
      },
      "execution_count": null,
      "outputs": []
    }
  ]
}